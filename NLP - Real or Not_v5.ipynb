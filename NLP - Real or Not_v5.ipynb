{
 "cells": [
  {
   "cell_type": "markdown",
   "metadata": {},
   "source": [
    "# Real or Not? NLP with Disaster Tweets"
   ]
  },
  {
   "cell_type": "markdown",
   "metadata": {},
   "source": [
    "## Table of Contents\n",
    "\n",
    "1. [Introduction](#Introduction)\n",
    "2. [Data Import](#Data-Import)\n",
    "3. [Text Cleaning](#Text-Cleaning)\n",
    "4. [Modelling](#Modelling)\n",
    "5. [Neural Network](#Neural-Network)\n",
    "6. [Predictions](#Predictions)\n",
    "7. [Conclusion](#Conclusion)\n",
    "8. [Future Improvements](#Future-Improvements)"
   ]
  },
  {
   "cell_type": "markdown",
   "metadata": {},
   "source": [
    "## Introduction\n",
    "The Real or Not tweet challenge is an ongoing competition hosted by Kaggle. This challenge is designed to be an introductory problem for those getting started with NLP using real Twitter data.\n",
    "\n",
    "We approached this problem using common Scikit-Learn classifiers and then comparing the best performing ones with a neural network.\n",
    "\n",
    "Ultimately, our best performing solution was a Multinomial Naive Bayes model which had an F1 score of 0.79 representing a reasonable amount of recall as well as precision."
   ]
  },
  {
   "cell_type": "markdown",
   "metadata": {},
   "source": [
    "## Library Imports"
   ]
  },
  {
   "cell_type": "code",
   "execution_count": 1,
   "metadata": {},
   "outputs": [
    {
     "name": "stderr",
     "output_type": "stream",
     "text": [
      "/home/kavan/.local/lib/python3.8/site-packages/sklearn/utils/deprecation.py:144: FutureWarning: The sklearn.feature_extraction.stop_words module is  deprecated in version 0.22 and will be removed in version 0.24. The corresponding classes / functions should instead be imported from sklearn.feature_extraction.text. Anything that cannot be imported from sklearn.feature_extraction.text is now part of the private API.\n",
      "  warnings.warn(message, FutureWarning)\n"
     ]
    },
    {
     "name": "stdout",
     "output_type": "stream",
     "text": [
      "2.3.0\n"
     ]
    },
    {
     "name": "stderr",
     "output_type": "stream",
     "text": [
      "Using TensorFlow backend.\n"
     ]
    }
   ],
   "source": [
    "import pandas as pd\n",
    "import numpy as np\n",
    "import seaborn as sns\n",
    "import matplotlib.pyplot as plt\n",
    "\n",
    "from sklearn.model_selection import train_test_split, cross_val_score, GridSearchCV\n",
    "from sklearn.pipeline import Pipeline\n",
    "from sklearn.linear_model import LogisticRegression\n",
    "from sklearn.neighbors import KNeighborsClassifier\n",
    "from sklearn.naive_bayes import MultinomialNB, GaussianNB\n",
    "from sklearn.ensemble import RandomForestClassifier\n",
    "from sklearn.svm import SVC\n",
    "from sklearn.feature_extraction.text import CountVectorizer, TfidfVectorizer\n",
    "from sklearn.feature_extraction import stop_words\n",
    "from sklearn.preprocessing import FunctionTransformer\n",
    "from sklearn.metrics import f1_score\n",
    "from sklearn.base import TransformerMixin\n",
    "\n",
    "import tensorflow as tf\n",
    "from tensorflow.keras.preprocessing.text import Tokenizer\n",
    "from tensorflow.keras.preprocessing.sequence import pad_sequences\n",
    "from keras.models import Sequential\n",
    "from keras.layers import Embedding,LSTM,Dense,SpatialDropout1D, Bidirectional, GlobalAveragePooling1D, Dropout\n",
    "from keras.layers.embeddings import Embedding\n",
    "from keras.utils import to_categorical\n",
    "from keras.initializers import Constant\n",
    "from keras.optimizers import Adam\n",
    "from keras.callbacks import EarlyStopping\n",
    "from keras import metrics\n",
    "\n",
    "\n",
    "import nltk\n",
    "from nltk.stem.porter import PorterStemmer\n",
    "from nltk.tokenize import RegexpTokenizer\n",
    "from nltk.corpus import stopwords\n",
    "\n",
    "from bs4 import BeautifulSoup\n",
    "import regex as re\n",
    "import time\n",
    "import pickle\n",
    "import tqdm\n",
    "\n",
    "import keras.backend as K\n",
    "\n",
    "%matplotlib inline\n",
    "print(tf.__version__)"
   ]
  },
  {
   "cell_type": "code",
   "execution_count": 2,
   "metadata": {},
   "outputs": [],
   "source": [
    "# allocate expandable gpu memory\n",
    "physical_devices = tf.config.experimental.list_physical_devices('GPU')\n",
    "if len(physical_devices) > 0:\n",
    "    tf.config.experimental.set_memory_growth(physical_devices[0], True)"
   ]
  },
  {
   "cell_type": "markdown",
   "metadata": {},
   "source": [
    "## Data Import"
   ]
  },
  {
   "cell_type": "code",
   "execution_count": 3,
   "metadata": {},
   "outputs": [],
   "source": [
    "train = pd.read_csv('./data/train.csv')\n",
    "test = pd.read_csv('./data/test.csv')"
   ]
  },
  {
   "cell_type": "code",
   "execution_count": 4,
   "metadata": {},
   "outputs": [
    {
     "name": "stdout",
     "output_type": "stream",
     "text": [
      "<class 'pandas.core.frame.DataFrame'>\n",
      "RangeIndex: 7613 entries, 0 to 7612\n",
      "Data columns (total 5 columns):\n",
      " #   Column    Non-Null Count  Dtype \n",
      "---  ------    --------------  ----- \n",
      " 0   id        7613 non-null   int64 \n",
      " 1   keyword   7552 non-null   object\n",
      " 2   location  5080 non-null   object\n",
      " 3   text      7613 non-null   object\n",
      " 4   target    7613 non-null   int64 \n",
      "dtypes: int64(2), object(3)\n",
      "memory usage: 297.5+ KB\n"
     ]
    }
   ],
   "source": [
    "train.info()"
   ]
  },
  {
   "cell_type": "code",
   "execution_count": 5,
   "metadata": {},
   "outputs": [
    {
     "data": {
      "text/html": [
       "<div>\n",
       "<style scoped>\n",
       "    .dataframe tbody tr th:only-of-type {\n",
       "        vertical-align: middle;\n",
       "    }\n",
       "\n",
       "    .dataframe tbody tr th {\n",
       "        vertical-align: top;\n",
       "    }\n",
       "\n",
       "    .dataframe thead th {\n",
       "        text-align: right;\n",
       "    }\n",
       "</style>\n",
       "<table border=\"1\" class=\"dataframe\">\n",
       "  <thead>\n",
       "    <tr style=\"text-align: right;\">\n",
       "      <th></th>\n",
       "      <th>id</th>\n",
       "      <th>target</th>\n",
       "    </tr>\n",
       "  </thead>\n",
       "  <tbody>\n",
       "    <tr>\n",
       "      <th>count</th>\n",
       "      <td>7613.000000</td>\n",
       "      <td>7613.00000</td>\n",
       "    </tr>\n",
       "    <tr>\n",
       "      <th>mean</th>\n",
       "      <td>5441.934848</td>\n",
       "      <td>0.42966</td>\n",
       "    </tr>\n",
       "    <tr>\n",
       "      <th>std</th>\n",
       "      <td>3137.116090</td>\n",
       "      <td>0.49506</td>\n",
       "    </tr>\n",
       "    <tr>\n",
       "      <th>min</th>\n",
       "      <td>1.000000</td>\n",
       "      <td>0.00000</td>\n",
       "    </tr>\n",
       "    <tr>\n",
       "      <th>25%</th>\n",
       "      <td>2734.000000</td>\n",
       "      <td>0.00000</td>\n",
       "    </tr>\n",
       "    <tr>\n",
       "      <th>50%</th>\n",
       "      <td>5408.000000</td>\n",
       "      <td>0.00000</td>\n",
       "    </tr>\n",
       "    <tr>\n",
       "      <th>75%</th>\n",
       "      <td>8146.000000</td>\n",
       "      <td>1.00000</td>\n",
       "    </tr>\n",
       "    <tr>\n",
       "      <th>max</th>\n",
       "      <td>10873.000000</td>\n",
       "      <td>1.00000</td>\n",
       "    </tr>\n",
       "  </tbody>\n",
       "</table>\n",
       "</div>"
      ],
      "text/plain": [
       "                 id      target\n",
       "count   7613.000000  7613.00000\n",
       "mean    5441.934848     0.42966\n",
       "std     3137.116090     0.49506\n",
       "min        1.000000     0.00000\n",
       "25%     2734.000000     0.00000\n",
       "50%     5408.000000     0.00000\n",
       "75%     8146.000000     1.00000\n",
       "max    10873.000000     1.00000"
      ]
     },
     "execution_count": 5,
     "metadata": {},
     "output_type": "execute_result"
    }
   ],
   "source": [
    "train.describe()"
   ]
  },
  {
   "cell_type": "code",
   "execution_count": 7,
   "metadata": {},
   "outputs": [
    {
     "name": "stdout",
     "output_type": "stream",
     "text": [
      "<class 'pandas.core.frame.DataFrame'>\n",
      "RangeIndex: 3263 entries, 0 to 3262\n",
      "Data columns (total 4 columns):\n",
      " #   Column    Non-Null Count  Dtype \n",
      "---  ------    --------------  ----- \n",
      " 0   id        3263 non-null   int64 \n",
      " 1   keyword   3237 non-null   object\n",
      " 2   location  2158 non-null   object\n",
      " 3   text      3263 non-null   object\n",
      "dtypes: int64(1), object(3)\n",
      "memory usage: 102.1+ KB\n"
     ]
    }
   ],
   "source": [
    "test.info()"
   ]
  },
  {
   "cell_type": "code",
   "execution_count": 8,
   "metadata": {},
   "outputs": [
    {
     "data": {
      "text/html": [
       "<div>\n",
       "<style scoped>\n",
       "    .dataframe tbody tr th:only-of-type {\n",
       "        vertical-align: middle;\n",
       "    }\n",
       "\n",
       "    .dataframe tbody tr th {\n",
       "        vertical-align: top;\n",
       "    }\n",
       "\n",
       "    .dataframe thead th {\n",
       "        text-align: right;\n",
       "    }\n",
       "</style>\n",
       "<table border=\"1\" class=\"dataframe\">\n",
       "  <thead>\n",
       "    <tr style=\"text-align: right;\">\n",
       "      <th></th>\n",
       "      <th>id</th>\n",
       "    </tr>\n",
       "  </thead>\n",
       "  <tbody>\n",
       "    <tr>\n",
       "      <th>count</th>\n",
       "      <td>3263.000000</td>\n",
       "    </tr>\n",
       "    <tr>\n",
       "      <th>mean</th>\n",
       "      <td>5427.152927</td>\n",
       "    </tr>\n",
       "    <tr>\n",
       "      <th>std</th>\n",
       "      <td>3146.427221</td>\n",
       "    </tr>\n",
       "    <tr>\n",
       "      <th>min</th>\n",
       "      <td>0.000000</td>\n",
       "    </tr>\n",
       "    <tr>\n",
       "      <th>25%</th>\n",
       "      <td>2683.000000</td>\n",
       "    </tr>\n",
       "    <tr>\n",
       "      <th>50%</th>\n",
       "      <td>5500.000000</td>\n",
       "    </tr>\n",
       "    <tr>\n",
       "      <th>75%</th>\n",
       "      <td>8176.000000</td>\n",
       "    </tr>\n",
       "    <tr>\n",
       "      <th>max</th>\n",
       "      <td>10875.000000</td>\n",
       "    </tr>\n",
       "  </tbody>\n",
       "</table>\n",
       "</div>"
      ],
      "text/plain": [
       "                 id\n",
       "count   3263.000000\n",
       "mean    5427.152927\n",
       "std     3146.427221\n",
       "min        0.000000\n",
       "25%     2683.000000\n",
       "50%     5500.000000\n",
       "75%     8176.000000\n",
       "max    10875.000000"
      ]
     },
     "execution_count": 8,
     "metadata": {},
     "output_type": "execute_result"
    }
   ],
   "source": [
    "test.describe()"
   ]
  },
  {
   "cell_type": "markdown",
   "metadata": {},
   "source": [
    "Ratio of disaster tweets to non-disaster tweets"
   ]
  },
  {
   "cell_type": "code",
   "execution_count": 6,
   "metadata": {
    "scrolled": true
   },
   "outputs": [
    {
     "data": {
      "text/plain": [
       "0    0.57034\n",
       "1    0.42966\n",
       "Name: target, dtype: float64"
      ]
     },
     "execution_count": 6,
     "metadata": {},
     "output_type": "execute_result"
    }
   ],
   "source": [
    "train['target'].value_counts(normalize=True)"
   ]
  },
  {
   "cell_type": "code",
   "execution_count": 9,
   "metadata": {},
   "outputs": [
    {
     "data": {
      "text/plain": [
       "fatalities               45\n",
       "deluge                   42\n",
       "armageddon               42\n",
       "harm                     41\n",
       "damage                   41\n",
       "                         ..\n",
       "forest%20fire            19\n",
       "epicentre                12\n",
       "threat                   11\n",
       "inundation               10\n",
       "radiation%20emergency     9\n",
       "Name: keyword, Length: 221, dtype: int64"
      ]
     },
     "execution_count": 9,
     "metadata": {},
     "output_type": "execute_result"
    }
   ],
   "source": [
    "train['keyword'].value_counts()"
   ]
  },
  {
   "cell_type": "code",
   "execution_count": 10,
   "metadata": {},
   "outputs": [
    {
     "data": {
      "text/plain": [
       "array([nan, 'ablaze', 'accident', 'aftershock', 'airplane%20accident',\n",
       "       'ambulance', 'annihilated', 'annihilation', 'apocalypse',\n",
       "       'armageddon', 'army', 'arson', 'arsonist', 'attack', 'attacked',\n",
       "       'avalanche', 'battle', 'bioterror', 'bioterrorism', 'blaze',\n",
       "       'blazing', 'bleeding', 'blew%20up', 'blight', 'blizzard', 'blood',\n",
       "       'bloody', 'blown%20up', 'body%20bag', 'body%20bagging',\n",
       "       'body%20bags', 'bomb', 'bombed', 'bombing', 'bridge%20collapse',\n",
       "       'buildings%20burning', 'buildings%20on%20fire', 'burned',\n",
       "       'burning', 'burning%20buildings', 'bush%20fires', 'casualties',\n",
       "       'casualty', 'catastrophe', 'catastrophic', 'chemical%20emergency',\n",
       "       'cliff%20fall', 'collapse', 'collapsed', 'collide', 'collided',\n",
       "       'collision', 'crash', 'crashed', 'crush', 'crushed', 'curfew',\n",
       "       'cyclone', 'damage', 'danger', 'dead', 'death', 'deaths', 'debris',\n",
       "       'deluge', 'deluged', 'demolish', 'demolished', 'demolition',\n",
       "       'derail', 'derailed', 'derailment', 'desolate', 'desolation',\n",
       "       'destroy', 'destroyed', 'destruction', 'detonate', 'detonation',\n",
       "       'devastated', 'devastation', 'disaster', 'displaced', 'drought',\n",
       "       'drown', 'drowned', 'drowning', 'dust%20storm', 'earthquake',\n",
       "       'electrocute', 'electrocuted', 'emergency', 'emergency%20plan',\n",
       "       'emergency%20services', 'engulfed', 'epicentre', 'evacuate',\n",
       "       'evacuated', 'evacuation', 'explode', 'exploded', 'explosion',\n",
       "       'eyewitness', 'famine', 'fatal', 'fatalities', 'fatality', 'fear',\n",
       "       'fire', 'fire%20truck', 'first%20responders', 'flames',\n",
       "       'flattened', 'flood', 'flooding', 'floods', 'forest%20fire',\n",
       "       'forest%20fires', 'hail', 'hailstorm', 'harm', 'hazard',\n",
       "       'hazardous', 'heat%20wave', 'hellfire', 'hijack', 'hijacker',\n",
       "       'hijacking', 'hostage', 'hostages', 'hurricane', 'injured',\n",
       "       'injuries', 'injury', 'inundated', 'inundation', 'landslide',\n",
       "       'lava', 'lightning', 'loud%20bang', 'mass%20murder',\n",
       "       'mass%20murderer', 'massacre', 'mayhem', 'meltdown', 'military',\n",
       "       'mudslide', 'natural%20disaster', 'nuclear%20disaster',\n",
       "       'nuclear%20reactor', 'obliterate', 'obliterated', 'obliteration',\n",
       "       'oil%20spill', 'outbreak', 'pandemonium', 'panic', 'panicking',\n",
       "       'police', 'quarantine', 'quarantined', 'radiation%20emergency',\n",
       "       'rainstorm', 'razed', 'refugees', 'rescue', 'rescued', 'rescuers',\n",
       "       'riot', 'rioting', 'rubble', 'ruin', 'sandstorm', 'screamed',\n",
       "       'screaming', 'screams', 'seismic', 'sinkhole', 'sinking', 'siren',\n",
       "       'sirens', 'smoke', 'snowstorm', 'storm', 'stretcher',\n",
       "       'structural%20failure', 'suicide%20bomb', 'suicide%20bomber',\n",
       "       'suicide%20bombing', 'sunk', 'survive', 'survived', 'survivors',\n",
       "       'terrorism', 'terrorist', 'threat', 'thunder', 'thunderstorm',\n",
       "       'tornado', 'tragedy', 'trapped', 'trauma', 'traumatised',\n",
       "       'trouble', 'tsunami', 'twister', 'typhoon', 'upheaval',\n",
       "       'violent%20storm', 'volcano', 'war%20zone', 'weapon', 'weapons',\n",
       "       'whirlwind', 'wild%20fires', 'wildfire', 'windstorm', 'wounded',\n",
       "       'wounds', 'wreck', 'wreckage', 'wrecked'], dtype=object)"
      ]
     },
     "execution_count": 10,
     "metadata": {},
     "output_type": "execute_result"
    }
   ],
   "source": [
    "train['keyword'].unique()"
   ]
  },
  {
   "cell_type": "markdown",
   "metadata": {},
   "source": [
    "removing special charachters from keywords and converting keywords and location to string"
   ]
  },
  {
   "cell_type": "code",
   "execution_count": 11,
   "metadata": {},
   "outputs": [],
   "source": [
    "train['keyword'] = [str(i).replace('%20',' ') for i in train['keyword']]"
   ]
  },
  {
   "cell_type": "code",
   "execution_count": 12,
   "metadata": {},
   "outputs": [],
   "source": [
    "test['keyword'] = [str(i).replace('%20',' ') for i in test['keyword']]"
   ]
  },
  {
   "cell_type": "code",
   "execution_count": 13,
   "metadata": {},
   "outputs": [],
   "source": [
    "train['location'] = [str(i) for i in train['location']]"
   ]
  },
  {
   "cell_type": "code",
   "execution_count": 14,
   "metadata": {},
   "outputs": [],
   "source": [
    "test['location'] = [str(i) for i in test['location']]"
   ]
  },
  {
   "cell_type": "code",
   "execution_count": 16,
   "metadata": {},
   "outputs": [
    {
     "data": {
      "text/plain": [
       "array(['nan', 'ablaze', 'accident', 'aftershock', 'airplane accident',\n",
       "       'ambulance', 'annihilated', 'annihilation', 'apocalypse',\n",
       "       'armageddon', 'army', 'arson', 'arsonist', 'attack', 'attacked',\n",
       "       'avalanche', 'battle', 'bioterror', 'bioterrorism', 'blaze',\n",
       "       'blazing', 'bleeding', 'blew up', 'blight', 'blizzard', 'blood',\n",
       "       'bloody', 'blown up', 'body bag', 'body bagging', 'body bags',\n",
       "       'bomb', 'bombed', 'bombing', 'bridge collapse',\n",
       "       'buildings burning', 'buildings on fire', 'burned', 'burning',\n",
       "       'burning buildings', 'bush fires', 'casualties', 'casualty',\n",
       "       'catastrophe', 'catastrophic', 'chemical emergency', 'cliff fall',\n",
       "       'collapse', 'collapsed', 'collide', 'collided', 'collision',\n",
       "       'crash', 'crashed', 'crush', 'crushed', 'curfew', 'cyclone',\n",
       "       'damage', 'danger', 'dead', 'death', 'deaths', 'debris', 'deluge',\n",
       "       'deluged', 'demolish', 'demolished', 'demolition', 'derail',\n",
       "       'derailed', 'derailment', 'desolate', 'desolation', 'destroy',\n",
       "       'destroyed', 'destruction', 'detonate', 'detonation', 'devastated',\n",
       "       'devastation', 'disaster', 'displaced', 'drought', 'drown',\n",
       "       'drowned', 'drowning', 'dust storm', 'earthquake', 'electrocute',\n",
       "       'electrocuted', 'emergency', 'emergency plan',\n",
       "       'emergency services', 'engulfed', 'epicentre', 'evacuate',\n",
       "       'evacuated', 'evacuation', 'explode', 'exploded', 'explosion',\n",
       "       'eyewitness', 'famine', 'fatal', 'fatalities', 'fatality', 'fear',\n",
       "       'fire', 'fire truck', 'first responders', 'flames', 'flattened',\n",
       "       'flood', 'flooding', 'floods', 'forest fire', 'forest fires',\n",
       "       'hail', 'hailstorm', 'harm', 'hazard', 'hazardous', 'heat wave',\n",
       "       'hellfire', 'hijack', 'hijacker', 'hijacking', 'hostage',\n",
       "       'hostages', 'hurricane', 'injured', 'injuries', 'injury',\n",
       "       'inundated', 'inundation', 'landslide', 'lava', 'lightning',\n",
       "       'loud bang', 'mass murder', 'mass murderer', 'massacre', 'mayhem',\n",
       "       'meltdown', 'military', 'mudslide', 'natural disaster',\n",
       "       'nuclear disaster', 'nuclear reactor', 'obliterate', 'obliterated',\n",
       "       'obliteration', 'oil spill', 'outbreak', 'pandemonium', 'panic',\n",
       "       'panicking', 'police', 'quarantine', 'quarantined',\n",
       "       'radiation emergency', 'rainstorm', 'razed', 'refugees', 'rescue',\n",
       "       'rescued', 'rescuers', 'riot', 'rioting', 'rubble', 'ruin',\n",
       "       'sandstorm', 'screamed', 'screaming', 'screams', 'seismic',\n",
       "       'sinkhole', 'sinking', 'siren', 'sirens', 'smoke', 'snowstorm',\n",
       "       'storm', 'stretcher', 'structural failure', 'suicide bomb',\n",
       "       'suicide bomber', 'suicide bombing', 'sunk', 'survive', 'survived',\n",
       "       'survivors', 'terrorism', 'terrorist', 'threat', 'thunder',\n",
       "       'thunderstorm', 'tornado', 'tragedy', 'trapped', 'trauma',\n",
       "       'traumatised', 'trouble', 'tsunami', 'twister', 'typhoon',\n",
       "       'upheaval', 'violent storm', 'volcano', 'war zone', 'weapon',\n",
       "       'weapons', 'whirlwind', 'wild fires', 'wildfire', 'windstorm',\n",
       "       'wounded', 'wounds', 'wreck', 'wreckage', 'wrecked'], dtype=object)"
      ]
     },
     "execution_count": 16,
     "metadata": {},
     "output_type": "execute_result"
    }
   ],
   "source": [
    "train['keyword'].unique()"
   ]
  },
  {
   "cell_type": "code",
   "execution_count": 17,
   "metadata": {},
   "outputs": [
    {
     "data": {
      "text/plain": [
       "222"
      ]
     },
     "execution_count": 17,
     "metadata": {},
     "output_type": "execute_result"
    }
   ],
   "source": [
    "len(train['keyword'].unique())"
   ]
  },
  {
   "cell_type": "code",
   "execution_count": 18,
   "metadata": {},
   "outputs": [],
   "source": [
    "pd.set_option('display.max_colwidth', None)"
   ]
  },
  {
   "cell_type": "markdown",
   "metadata": {},
   "source": [
    "## Text Cleaning"
   ]
  },
  {
   "cell_type": "markdown",
   "metadata": {},
   "source": [
    "#### Function to clean text"
   ]
  },
  {
   "cell_type": "code",
   "execution_count": 22,
   "metadata": {},
   "outputs": [],
   "source": [
    "def text_cleaner(text):\n",
    "    \n",
    "    # 1. Remove any leftover html/spaces/links from the text to make the model more robust\n",
    "    nohtml = BeautifulSoup(text).get_text()\n",
    "    \n",
    "    # 2. Remove any non-letter characters from the text\n",
    "    nohtml = re.sub(r'https?:\\/\\/\\S+', '', nohtml)\n",
    "    nohtml = re.sub(\"[^a-zA-Z]\", \" \", nohtml)\n",
    "\n",
    "    # 3. Tokenize\n",
    "    tokenizer = RegexpTokenizer(r'\\w+')\n",
    "    tweet_tokens = tokenizer.tokenize(nohtml.lower())\n",
    "    \n",
    "    # 4. Stem\n",
    "    p_stemmer = PorterStemmer()\n",
    "    stem_tokens = [p_stemmer.stem(i) for i in tweet_tokens]\n",
    "\n",
    "    # 5. Removing Stopwords\n",
    "    stopwords_list = stop_words.ENGLISH_STOP_WORDS\n",
    "    stops = set(stopwords_list)\n",
    "    clean_words = [w for w in stem_tokens if w not in stops]\n",
    "    \n",
    "    return (\" \".join(clean_words))"
   ]
  },
  {
   "cell_type": "code",
   "execution_count": 23,
   "metadata": {},
   "outputs": [],
   "source": [
    "train['clean_keyword'] = train['keyword'].apply(text_cleaner)"
   ]
  },
  {
   "cell_type": "code",
   "execution_count": 24,
   "metadata": {},
   "outputs": [],
   "source": [
    "test['clean_keyword'] = test['keyword'].apply(text_cleaner)"
   ]
  },
  {
   "cell_type": "code",
   "execution_count": 25,
   "metadata": {},
   "outputs": [
    {
     "name": "stderr",
     "output_type": "stream",
     "text": [
      "/home/kavan/anaconda3/lib/python3.8/site-packages/bs4/__init__.py:414: MarkupResemblesLocatorWarning: \"http://www.amazon.com/dp/B00HR\" looks like a URL. Beautiful Soup is not an HTTP client. You should probably use an HTTP client like requests to get the document behind the URL, and feed that document to Beautiful Soup.\n",
      "  warnings.warn(\n",
      "/home/kavan/anaconda3/lib/python3.8/site-packages/bs4/__init__.py:414: MarkupResemblesLocatorWarning: \"http://twitch.tv/jcmonkey\" looks like a URL. Beautiful Soup is not an HTTP client. You should probably use an HTTP client like requests to get the document behind the URL, and feed that document to Beautiful Soup.\n",
      "  warnings.warn(\n"
     ]
    }
   ],
   "source": [
    "train['clean_location'] = train['location'].apply(text_cleaner)"
   ]
  },
  {
   "cell_type": "code",
   "execution_count": 26,
   "metadata": {},
   "outputs": [
    {
     "name": "stderr",
     "output_type": "stream",
     "text": [
      "/home/kavan/anaconda3/lib/python3.8/site-packages/bs4/__init__.py:414: MarkupResemblesLocatorWarning: \"http://wingssilverwork.com\" looks like a URL. Beautiful Soup is not an HTTP client. You should probably use an HTTP client like requests to get the document behind the URL, and feed that document to Beautiful Soup.\n",
      "  warnings.warn(\n",
      "/home/kavan/anaconda3/lib/python3.8/site-packages/bs4/__init__.py:414: MarkupResemblesLocatorWarning: \"http://t.co/mOY6lmu\" looks like a URL. Beautiful Soup is not an HTTP client. You should probably use an HTTP client like requests to get the document behind the URL, and feed that document to Beautiful Soup.\n",
      "  warnings.warn(\n"
     ]
    }
   ],
   "source": [
    "test['clean_location'] = test['location'].apply(text_cleaner)"
   ]
  },
  {
   "cell_type": "code",
   "execution_count": 27,
   "metadata": {},
   "outputs": [],
   "source": [
    "train['clean_text'] = train['text'].apply(text_cleaner)"
   ]
  },
  {
   "cell_type": "code",
   "execution_count": 28,
   "metadata": {},
   "outputs": [],
   "source": [
    "test['clean_text'] = test['text'].apply(text_cleaner)"
   ]
  },
  {
   "cell_type": "code",
   "execution_count": 29,
   "metadata": {},
   "outputs": [
    {
     "data": {
      "text/html": [
       "<div>\n",
       "<style scoped>\n",
       "    .dataframe tbody tr th:only-of-type {\n",
       "        vertical-align: middle;\n",
       "    }\n",
       "\n",
       "    .dataframe tbody tr th {\n",
       "        vertical-align: top;\n",
       "    }\n",
       "\n",
       "    .dataframe thead th {\n",
       "        text-align: right;\n",
       "    }\n",
       "</style>\n",
       "<table border=\"1\" class=\"dataframe\">\n",
       "  <thead>\n",
       "    <tr style=\"text-align: right;\">\n",
       "      <th></th>\n",
       "      <th>id</th>\n",
       "      <th>keyword</th>\n",
       "      <th>location</th>\n",
       "      <th>text</th>\n",
       "      <th>target</th>\n",
       "      <th>clean_keyword</th>\n",
       "      <th>clean_location</th>\n",
       "      <th>clean_text</th>\n",
       "    </tr>\n",
       "  </thead>\n",
       "  <tbody>\n",
       "    <tr>\n",
       "      <th>0</th>\n",
       "      <td>1</td>\n",
       "      <td>nan</td>\n",
       "      <td>nan</td>\n",
       "      <td>Our Deeds are the Reason of this #earthquake May ALLAH Forgive us all</td>\n",
       "      <td>1</td>\n",
       "      <td>nan</td>\n",
       "      <td>nan</td>\n",
       "      <td>deed reason thi earthquak allah forgiv</td>\n",
       "    </tr>\n",
       "    <tr>\n",
       "      <th>1</th>\n",
       "      <td>4</td>\n",
       "      <td>nan</td>\n",
       "      <td>nan</td>\n",
       "      <td>Forest fire near La Ronge Sask. Canada</td>\n",
       "      <td>1</td>\n",
       "      <td>nan</td>\n",
       "      <td>nan</td>\n",
       "      <td>forest near la rong sask canada</td>\n",
       "    </tr>\n",
       "    <tr>\n",
       "      <th>2</th>\n",
       "      <td>5</td>\n",
       "      <td>nan</td>\n",
       "      <td>nan</td>\n",
       "      <td>All residents asked to 'shelter in place' are being notified by officers. No other evacuation or shelter in place orders are expected</td>\n",
       "      <td>1</td>\n",
       "      <td>nan</td>\n",
       "      <td>nan</td>\n",
       "      <td>resid ask shelter place notifi offic evacu shelter place order expect</td>\n",
       "    </tr>\n",
       "    <tr>\n",
       "      <th>3</th>\n",
       "      <td>6</td>\n",
       "      <td>nan</td>\n",
       "      <td>nan</td>\n",
       "      <td>13,000 people receive #wildfires evacuation orders in California</td>\n",
       "      <td>1</td>\n",
       "      <td>nan</td>\n",
       "      <td>nan</td>\n",
       "      <td>peopl receiv wildfir evacu order california</td>\n",
       "    </tr>\n",
       "    <tr>\n",
       "      <th>4</th>\n",
       "      <td>7</td>\n",
       "      <td>nan</td>\n",
       "      <td>nan</td>\n",
       "      <td>Just got sent this photo from Ruby #Alaska as smoke from #wildfires pours into a school</td>\n",
       "      <td>1</td>\n",
       "      <td>nan</td>\n",
       "      <td>nan</td>\n",
       "      <td>just got sent thi photo rubi alaska smoke wildfir pour school</td>\n",
       "    </tr>\n",
       "    <tr>\n",
       "      <th>5</th>\n",
       "      <td>8</td>\n",
       "      <td>nan</td>\n",
       "      <td>nan</td>\n",
       "      <td>#RockyFire Update =&gt; California Hwy. 20 closed in both directions due to Lake County fire - #CAfire #wildfires</td>\n",
       "      <td>1</td>\n",
       "      <td>nan</td>\n",
       "      <td>nan</td>\n",
       "      <td>rockyfir updat california hwi close direct lake counti cafir wildfir</td>\n",
       "    </tr>\n",
       "    <tr>\n",
       "      <th>6</th>\n",
       "      <td>10</td>\n",
       "      <td>nan</td>\n",
       "      <td>nan</td>\n",
       "      <td>#flood #disaster Heavy rain causes flash flooding of streets in Manitou, Colorado Springs areas</td>\n",
       "      <td>1</td>\n",
       "      <td>nan</td>\n",
       "      <td>nan</td>\n",
       "      <td>flood disast heavi rain caus flash flood street manit colorado spring area</td>\n",
       "    </tr>\n",
       "    <tr>\n",
       "      <th>7</th>\n",
       "      <td>13</td>\n",
       "      <td>nan</td>\n",
       "      <td>nan</td>\n",
       "      <td>I'm on top of the hill and I can see a fire in the woods...</td>\n",
       "      <td>1</td>\n",
       "      <td>nan</td>\n",
       "      <td>nan</td>\n",
       "      <td>m hill wood</td>\n",
       "    </tr>\n",
       "    <tr>\n",
       "      <th>8</th>\n",
       "      <td>14</td>\n",
       "      <td>nan</td>\n",
       "      <td>nan</td>\n",
       "      <td>There's an emergency evacuation happening now in the building across the street</td>\n",
       "      <td>1</td>\n",
       "      <td>nan</td>\n",
       "      <td>nan</td>\n",
       "      <td>s emerg evacu happen build street</td>\n",
       "    </tr>\n",
       "    <tr>\n",
       "      <th>9</th>\n",
       "      <td>15</td>\n",
       "      <td>nan</td>\n",
       "      <td>nan</td>\n",
       "      <td>I'm afraid that the tornado is coming to our area...</td>\n",
       "      <td>1</td>\n",
       "      <td>nan</td>\n",
       "      <td>nan</td>\n",
       "      <td>m afraid tornado come area</td>\n",
       "    </tr>\n",
       "    <tr>\n",
       "      <th>10</th>\n",
       "      <td>16</td>\n",
       "      <td>nan</td>\n",
       "      <td>nan</td>\n",
       "      <td>Three people died from the heat wave so far</td>\n",
       "      <td>1</td>\n",
       "      <td>nan</td>\n",
       "      <td>nan</td>\n",
       "      <td>peopl die heat wave far</td>\n",
       "    </tr>\n",
       "    <tr>\n",
       "      <th>11</th>\n",
       "      <td>17</td>\n",
       "      <td>nan</td>\n",
       "      <td>nan</td>\n",
       "      <td>Haha South Tampa is getting flooded hah- WAIT A SECOND I LIVE IN SOUTH TAMPA WHAT AM I GONNA DO WHAT AM I GONNA DO FVCK #flooding</td>\n",
       "      <td>1</td>\n",
       "      <td>nan</td>\n",
       "      <td>nan</td>\n",
       "      <td>haha south tampa flood hah wait second live south tampa gonna gonna fvck flood</td>\n",
       "    </tr>\n",
       "    <tr>\n",
       "      <th>12</th>\n",
       "      <td>18</td>\n",
       "      <td>nan</td>\n",
       "      <td>nan</td>\n",
       "      <td>#raining #flooding #Florida #TampaBay #Tampa 18 or 19 days. I've lost count</td>\n",
       "      <td>1</td>\n",
       "      <td>nan</td>\n",
       "      <td>nan</td>\n",
       "      <td>rain flood florida tampabay tampa day ve lost count</td>\n",
       "    </tr>\n",
       "    <tr>\n",
       "      <th>13</th>\n",
       "      <td>19</td>\n",
       "      <td>nan</td>\n",
       "      <td>nan</td>\n",
       "      <td>#Flood in Bago Myanmar #We arrived Bago</td>\n",
       "      <td>1</td>\n",
       "      <td>nan</td>\n",
       "      <td>nan</td>\n",
       "      <td>flood bago myanmar arriv bago</td>\n",
       "    </tr>\n",
       "    <tr>\n",
       "      <th>14</th>\n",
       "      <td>20</td>\n",
       "      <td>nan</td>\n",
       "      <td>nan</td>\n",
       "      <td>Damage to school bus on 80 in multi car crash #BREAKING</td>\n",
       "      <td>1</td>\n",
       "      <td>nan</td>\n",
       "      <td>nan</td>\n",
       "      <td>damag school bu multi car crash break</td>\n",
       "    </tr>\n",
       "    <tr>\n",
       "      <th>15</th>\n",
       "      <td>23</td>\n",
       "      <td>nan</td>\n",
       "      <td>nan</td>\n",
       "      <td>What's up man?</td>\n",
       "      <td>0</td>\n",
       "      <td>nan</td>\n",
       "      <td>nan</td>\n",
       "      <td>s man</td>\n",
       "    </tr>\n",
       "    <tr>\n",
       "      <th>16</th>\n",
       "      <td>24</td>\n",
       "      <td>nan</td>\n",
       "      <td>nan</td>\n",
       "      <td>I love fruits</td>\n",
       "      <td>0</td>\n",
       "      <td>nan</td>\n",
       "      <td>nan</td>\n",
       "      <td>love fruit</td>\n",
       "    </tr>\n",
       "    <tr>\n",
       "      <th>17</th>\n",
       "      <td>25</td>\n",
       "      <td>nan</td>\n",
       "      <td>nan</td>\n",
       "      <td>Summer is lovely</td>\n",
       "      <td>0</td>\n",
       "      <td>nan</td>\n",
       "      <td>nan</td>\n",
       "      <td>summer love</td>\n",
       "    </tr>\n",
       "    <tr>\n",
       "      <th>18</th>\n",
       "      <td>26</td>\n",
       "      <td>nan</td>\n",
       "      <td>nan</td>\n",
       "      <td>My car is so fast</td>\n",
       "      <td>0</td>\n",
       "      <td>nan</td>\n",
       "      <td>nan</td>\n",
       "      <td>car fast</td>\n",
       "    </tr>\n",
       "    <tr>\n",
       "      <th>19</th>\n",
       "      <td>28</td>\n",
       "      <td>nan</td>\n",
       "      <td>nan</td>\n",
       "      <td>What a goooooooaaaaaal!!!!!!</td>\n",
       "      <td>0</td>\n",
       "      <td>nan</td>\n",
       "      <td>nan</td>\n",
       "      <td>goooooooaaaaaal</td>\n",
       "    </tr>\n",
       "    <tr>\n",
       "      <th>20</th>\n",
       "      <td>31</td>\n",
       "      <td>nan</td>\n",
       "      <td>nan</td>\n",
       "      <td>this is ridiculous....</td>\n",
       "      <td>0</td>\n",
       "      <td>nan</td>\n",
       "      <td>nan</td>\n",
       "      <td>thi ridicul</td>\n",
       "    </tr>\n",
       "    <tr>\n",
       "      <th>21</th>\n",
       "      <td>32</td>\n",
       "      <td>nan</td>\n",
       "      <td>nan</td>\n",
       "      <td>London is cool ;)</td>\n",
       "      <td>0</td>\n",
       "      <td>nan</td>\n",
       "      <td>nan</td>\n",
       "      <td>london cool</td>\n",
       "    </tr>\n",
       "    <tr>\n",
       "      <th>22</th>\n",
       "      <td>33</td>\n",
       "      <td>nan</td>\n",
       "      <td>nan</td>\n",
       "      <td>Love skiing</td>\n",
       "      <td>0</td>\n",
       "      <td>nan</td>\n",
       "      <td>nan</td>\n",
       "      <td>love ski</td>\n",
       "    </tr>\n",
       "    <tr>\n",
       "      <th>23</th>\n",
       "      <td>34</td>\n",
       "      <td>nan</td>\n",
       "      <td>nan</td>\n",
       "      <td>What a wonderful day!</td>\n",
       "      <td>0</td>\n",
       "      <td>nan</td>\n",
       "      <td>nan</td>\n",
       "      <td>wonder day</td>\n",
       "    </tr>\n",
       "    <tr>\n",
       "      <th>24</th>\n",
       "      <td>36</td>\n",
       "      <td>nan</td>\n",
       "      <td>nan</td>\n",
       "      <td>LOOOOOOL</td>\n",
       "      <td>0</td>\n",
       "      <td>nan</td>\n",
       "      <td>nan</td>\n",
       "      <td>looooool</td>\n",
       "    </tr>\n",
       "    <tr>\n",
       "      <th>25</th>\n",
       "      <td>37</td>\n",
       "      <td>nan</td>\n",
       "      <td>nan</td>\n",
       "      <td>No way...I can't eat that shit</td>\n",
       "      <td>0</td>\n",
       "      <td>nan</td>\n",
       "      <td>nan</td>\n",
       "      <td>way t eat shit</td>\n",
       "    </tr>\n",
       "    <tr>\n",
       "      <th>26</th>\n",
       "      <td>38</td>\n",
       "      <td>nan</td>\n",
       "      <td>nan</td>\n",
       "      <td>Was in NYC last week!</td>\n",
       "      <td>0</td>\n",
       "      <td>nan</td>\n",
       "      <td>nan</td>\n",
       "      <td>wa nyc week</td>\n",
       "    </tr>\n",
       "    <tr>\n",
       "      <th>27</th>\n",
       "      <td>39</td>\n",
       "      <td>nan</td>\n",
       "      <td>nan</td>\n",
       "      <td>Love my girlfriend</td>\n",
       "      <td>0</td>\n",
       "      <td>nan</td>\n",
       "      <td>nan</td>\n",
       "      <td>love girlfriend</td>\n",
       "    </tr>\n",
       "    <tr>\n",
       "      <th>28</th>\n",
       "      <td>40</td>\n",
       "      <td>nan</td>\n",
       "      <td>nan</td>\n",
       "      <td>Cooool :)</td>\n",
       "      <td>0</td>\n",
       "      <td>nan</td>\n",
       "      <td>nan</td>\n",
       "      <td>cooool</td>\n",
       "    </tr>\n",
       "    <tr>\n",
       "      <th>29</th>\n",
       "      <td>41</td>\n",
       "      <td>nan</td>\n",
       "      <td>nan</td>\n",
       "      <td>Do you like pasta?</td>\n",
       "      <td>0</td>\n",
       "      <td>nan</td>\n",
       "      <td>nan</td>\n",
       "      <td>like pasta</td>\n",
       "    </tr>\n",
       "    <tr>\n",
       "      <th>30</th>\n",
       "      <td>44</td>\n",
       "      <td>nan</td>\n",
       "      <td>nan</td>\n",
       "      <td>The end!</td>\n",
       "      <td>0</td>\n",
       "      <td>nan</td>\n",
       "      <td>nan</td>\n",
       "      <td>end</td>\n",
       "    </tr>\n",
       "    <tr>\n",
       "      <th>31</th>\n",
       "      <td>48</td>\n",
       "      <td>ablaze</td>\n",
       "      <td>Birmingham</td>\n",
       "      <td>@bbcmtd Wholesale Markets ablaze http://t.co/lHYXEOHY6C</td>\n",
       "      <td>1</td>\n",
       "      <td>ablaz</td>\n",
       "      <td>birmingham</td>\n",
       "      <td>bbcmtd wholesal market ablaz</td>\n",
       "    </tr>\n",
       "    <tr>\n",
       "      <th>32</th>\n",
       "      <td>49</td>\n",
       "      <td>ablaze</td>\n",
       "      <td>Est. September 2012 - Bristol</td>\n",
       "      <td>We always try to bring the heavy. #metal #RT http://t.co/YAo1e0xngw</td>\n",
       "      <td>0</td>\n",
       "      <td>ablaz</td>\n",
       "      <td>est septemb bristol</td>\n",
       "      <td>alway tri bring heavi metal rt</td>\n",
       "    </tr>\n",
       "    <tr>\n",
       "      <th>33</th>\n",
       "      <td>50</td>\n",
       "      <td>ablaze</td>\n",
       "      <td>AFRICA</td>\n",
       "      <td>#AFRICANBAZE: Breaking news:Nigeria flag set ablaze in Aba. http://t.co/2nndBGwyEi</td>\n",
       "      <td>1</td>\n",
       "      <td>ablaz</td>\n",
       "      <td>africa</td>\n",
       "      <td>africanbaz break news nigeria flag set ablaz aba</td>\n",
       "    </tr>\n",
       "    <tr>\n",
       "      <th>34</th>\n",
       "      <td>52</td>\n",
       "      <td>ablaze</td>\n",
       "      <td>Philadelphia, PA</td>\n",
       "      <td>Crying out for more! Set me ablaze</td>\n",
       "      <td>0</td>\n",
       "      <td>ablaz</td>\n",
       "      <td>philadelphia pa</td>\n",
       "      <td>cri set ablaz</td>\n",
       "    </tr>\n",
       "    <tr>\n",
       "      <th>35</th>\n",
       "      <td>53</td>\n",
       "      <td>ablaze</td>\n",
       "      <td>London, UK</td>\n",
       "      <td>On plus side LOOK AT THE SKY LAST NIGHT IT WAS ABLAZE http://t.co/qqsmshaJ3N</td>\n",
       "      <td>0</td>\n",
       "      <td>ablaz</td>\n",
       "      <td>london uk</td>\n",
       "      <td>plu look sky night wa ablaz</td>\n",
       "    </tr>\n",
       "    <tr>\n",
       "      <th>36</th>\n",
       "      <td>54</td>\n",
       "      <td>ablaze</td>\n",
       "      <td>Pretoria</td>\n",
       "      <td>@PhDSquares #mufc they've built so much hype around new acquisitions but I doubt they will set the EPL ablaze this season.</td>\n",
       "      <td>0</td>\n",
       "      <td>ablaz</td>\n",
       "      <td>pretoria</td>\n",
       "      <td>phdsquar mufc ve built hype new acquisit doubt set epl ablaz thi season</td>\n",
       "    </tr>\n",
       "    <tr>\n",
       "      <th>37</th>\n",
       "      <td>55</td>\n",
       "      <td>ablaze</td>\n",
       "      <td>World Wide!!</td>\n",
       "      <td>INEC Office in Abia Set Ablaze - http://t.co/3ImaomknnA</td>\n",
       "      <td>1</td>\n",
       "      <td>ablaz</td>\n",
       "      <td>world wide</td>\n",
       "      <td>inec offic abia set ablaz</td>\n",
       "    </tr>\n",
       "    <tr>\n",
       "      <th>38</th>\n",
       "      <td>56</td>\n",
       "      <td>ablaze</td>\n",
       "      <td>nan</td>\n",
       "      <td>Barbados #Bridgetown JAMAICA ÛÒ Two cars set ablaze: SANTA CRUZ ÛÓ Head of the St Elizabeth Police Superintende...  http://t.co/wDUEaj8Q4J</td>\n",
       "      <td>1</td>\n",
       "      <td>ablaz</td>\n",
       "      <td>nan</td>\n",
       "      <td>barbado bridgetown jamaica car set ablaz santa cruz head st elizabeth polic superintend</td>\n",
       "    </tr>\n",
       "    <tr>\n",
       "      <th>39</th>\n",
       "      <td>57</td>\n",
       "      <td>ablaze</td>\n",
       "      <td>Paranaque City</td>\n",
       "      <td>Ablaze for you Lord :D</td>\n",
       "      <td>0</td>\n",
       "      <td>ablaz</td>\n",
       "      <td>paranaqu citi</td>\n",
       "      <td>ablaz lord d</td>\n",
       "    </tr>\n",
       "    <tr>\n",
       "      <th>40</th>\n",
       "      <td>59</td>\n",
       "      <td>ablaze</td>\n",
       "      <td>Live On Webcam</td>\n",
       "      <td>Check these out: http://t.co/rOI2NSmEJJ http://t.co/3Tj8ZjiN21 http://t.co/YDUiXEfIpE http://t.co/LxTjc87KLS #nsfw</td>\n",
       "      <td>0</td>\n",
       "      <td>ablaz</td>\n",
       "      <td>live webcam</td>\n",
       "      <td>check nsfw</td>\n",
       "    </tr>\n",
       "    <tr>\n",
       "      <th>41</th>\n",
       "      <td>61</td>\n",
       "      <td>ablaze</td>\n",
       "      <td>nan</td>\n",
       "      <td>on the outside you're ablaze and alive\\nbut you're dead inside</td>\n",
       "      <td>0</td>\n",
       "      <td>ablaz</td>\n",
       "      <td>nan</td>\n",
       "      <td>outsid ablaz aliv dead insid</td>\n",
       "    </tr>\n",
       "    <tr>\n",
       "      <th>42</th>\n",
       "      <td>62</td>\n",
       "      <td>ablaze</td>\n",
       "      <td>milky way</td>\n",
       "      <td>Had an awesome time visiting the CFC head office the ancop site and ablaze. Thanks to Tita Vida for taking care of us ??</td>\n",
       "      <td>0</td>\n",
       "      <td>ablaz</td>\n",
       "      <td>milki way</td>\n",
       "      <td>awesom time visit cfc head offic ancop site ablaz thank tita vida care</td>\n",
       "    </tr>\n",
       "    <tr>\n",
       "      <th>43</th>\n",
       "      <td>63</td>\n",
       "      <td>ablaze</td>\n",
       "      <td>nan</td>\n",
       "      <td>SOOOO PUMPED FOR ABLAZE ???? @southridgelife</td>\n",
       "      <td>0</td>\n",
       "      <td>ablaz</td>\n",
       "      <td>nan</td>\n",
       "      <td>soooo pump ablaz southridgelif</td>\n",
       "    </tr>\n",
       "    <tr>\n",
       "      <th>44</th>\n",
       "      <td>64</td>\n",
       "      <td>ablaze</td>\n",
       "      <td>nan</td>\n",
       "      <td>I wanted to set Chicago ablaze with my preaching... But not my hotel! http://t.co/o9qknbfOFX</td>\n",
       "      <td>0</td>\n",
       "      <td>ablaz</td>\n",
       "      <td>nan</td>\n",
       "      <td>want set chicago ablaz preach hotel</td>\n",
       "    </tr>\n",
       "    <tr>\n",
       "      <th>45</th>\n",
       "      <td>65</td>\n",
       "      <td>ablaze</td>\n",
       "      <td>nan</td>\n",
       "      <td>I gained 3 followers in the last week. You? Know your stats and grow with http://t.co/TIyUliF5c6</td>\n",
       "      <td>0</td>\n",
       "      <td>ablaz</td>\n",
       "      <td>nan</td>\n",
       "      <td>gain follow week know stat grow</td>\n",
       "    </tr>\n",
       "    <tr>\n",
       "      <th>46</th>\n",
       "      <td>66</td>\n",
       "      <td>ablaze</td>\n",
       "      <td>GREENSBORO,NORTH CAROLINA</td>\n",
       "      <td>How the West was burned: Thousands of wildfires ablaze in California alone http://t.co/vl5TBR3wbr</td>\n",
       "      <td>1</td>\n",
       "      <td>ablaz</td>\n",
       "      <td>greensboro north carolina</td>\n",
       "      <td>west wa burn thousand wildfir ablaz california alon</td>\n",
       "    </tr>\n",
       "    <tr>\n",
       "      <th>47</th>\n",
       "      <td>67</td>\n",
       "      <td>ablaze</td>\n",
       "      <td>nan</td>\n",
       "      <td>Building the perfect tracklist to life leave the streets ablaze</td>\n",
       "      <td>0</td>\n",
       "      <td>ablaz</td>\n",
       "      <td>nan</td>\n",
       "      <td>build perfect tracklist life leav street ablaz</td>\n",
       "    </tr>\n",
       "    <tr>\n",
       "      <th>48</th>\n",
       "      <td>68</td>\n",
       "      <td>ablaze</td>\n",
       "      <td>Live On Webcam</td>\n",
       "      <td>Check these out: http://t.co/rOI2NSmEJJ http://t.co/3Tj8ZjiN21 http://t.co/YDUiXEfIpE http://t.co/LxTjc87KLS #nsfw</td>\n",
       "      <td>0</td>\n",
       "      <td>ablaz</td>\n",
       "      <td>live webcam</td>\n",
       "      <td>check nsfw</td>\n",
       "    </tr>\n",
       "    <tr>\n",
       "      <th>49</th>\n",
       "      <td>71</td>\n",
       "      <td>ablaze</td>\n",
       "      <td>England.</td>\n",
       "      <td>First night with retainers in. It's quite weird. Better get used to it; I have to wear them every single night for the next year at least.</td>\n",
       "      <td>0</td>\n",
       "      <td>ablaz</td>\n",
       "      <td>england</td>\n",
       "      <td>night retain s quit weird better use wear everi singl night year</td>\n",
       "    </tr>\n",
       "  </tbody>\n",
       "</table>\n",
       "</div>"
      ],
      "text/plain": [
       "    id keyword                       location  \\\n",
       "0    1     nan                            nan   \n",
       "1    4     nan                            nan   \n",
       "2    5     nan                            nan   \n",
       "3    6     nan                            nan   \n",
       "4    7     nan                            nan   \n",
       "5    8     nan                            nan   \n",
       "6   10     nan                            nan   \n",
       "7   13     nan                            nan   \n",
       "8   14     nan                            nan   \n",
       "9   15     nan                            nan   \n",
       "10  16     nan                            nan   \n",
       "11  17     nan                            nan   \n",
       "12  18     nan                            nan   \n",
       "13  19     nan                            nan   \n",
       "14  20     nan                            nan   \n",
       "15  23     nan                            nan   \n",
       "16  24     nan                            nan   \n",
       "17  25     nan                            nan   \n",
       "18  26     nan                            nan   \n",
       "19  28     nan                            nan   \n",
       "20  31     nan                            nan   \n",
       "21  32     nan                            nan   \n",
       "22  33     nan                            nan   \n",
       "23  34     nan                            nan   \n",
       "24  36     nan                            nan   \n",
       "25  37     nan                            nan   \n",
       "26  38     nan                            nan   \n",
       "27  39     nan                            nan   \n",
       "28  40     nan                            nan   \n",
       "29  41     nan                            nan   \n",
       "30  44     nan                            nan   \n",
       "31  48  ablaze                     Birmingham   \n",
       "32  49  ablaze  Est. September 2012 - Bristol   \n",
       "33  50  ablaze                         AFRICA   \n",
       "34  52  ablaze               Philadelphia, PA   \n",
       "35  53  ablaze                     London, UK   \n",
       "36  54  ablaze                       Pretoria   \n",
       "37  55  ablaze                   World Wide!!   \n",
       "38  56  ablaze                            nan   \n",
       "39  57  ablaze                 Paranaque City   \n",
       "40  59  ablaze                 Live On Webcam   \n",
       "41  61  ablaze                            nan   \n",
       "42  62  ablaze                      milky way   \n",
       "43  63  ablaze                            nan   \n",
       "44  64  ablaze                            nan   \n",
       "45  65  ablaze                            nan   \n",
       "46  66  ablaze      GREENSBORO,NORTH CAROLINA   \n",
       "47  67  ablaze                            nan   \n",
       "48  68  ablaze                 Live On Webcam   \n",
       "49  71  ablaze                       England.   \n",
       "\n",
       "                                                                                                                                            text  \\\n",
       "0                                                                          Our Deeds are the Reason of this #earthquake May ALLAH Forgive us all   \n",
       "1                                                                                                         Forest fire near La Ronge Sask. Canada   \n",
       "2          All residents asked to 'shelter in place' are being notified by officers. No other evacuation or shelter in place orders are expected   \n",
       "3                                                                              13,000 people receive #wildfires evacuation orders in California    \n",
       "4                                                       Just got sent this photo from Ruby #Alaska as smoke from #wildfires pours into a school    \n",
       "5                                 #RockyFire Update => California Hwy. 20 closed in both directions due to Lake County fire - #CAfire #wildfires   \n",
       "6                                                #flood #disaster Heavy rain causes flash flooding of streets in Manitou, Colorado Springs areas   \n",
       "7                                                                                    I'm on top of the hill and I can see a fire in the woods...   \n",
       "8                                                                There's an emergency evacuation happening now in the building across the street   \n",
       "9                                                                                           I'm afraid that the tornado is coming to our area...   \n",
       "10                                                                                                   Three people died from the heat wave so far   \n",
       "11             Haha South Tampa is getting flooded hah- WAIT A SECOND I LIVE IN SOUTH TAMPA WHAT AM I GONNA DO WHAT AM I GONNA DO FVCK #flooding   \n",
       "12                                                                  #raining #flooding #Florida #TampaBay #Tampa 18 or 19 days. I've lost count    \n",
       "13                                                                                                       #Flood in Bago Myanmar #We arrived Bago   \n",
       "14                                                                                      Damage to school bus on 80 in multi car crash #BREAKING    \n",
       "15                                                                                                                                What's up man?   \n",
       "16                                                                                                                                 I love fruits   \n",
       "17                                                                                                                              Summer is lovely   \n",
       "18                                                                                                                             My car is so fast   \n",
       "19                                                                                                                  What a goooooooaaaaaal!!!!!!   \n",
       "20                                                                                                                        this is ridiculous....   \n",
       "21                                                                                                                             London is cool ;)   \n",
       "22                                                                                                                                   Love skiing   \n",
       "23                                                                                                                         What a wonderful day!   \n",
       "24                                                                                                                                      LOOOOOOL   \n",
       "25                                                                                                                No way...I can't eat that shit   \n",
       "26                                                                                                                         Was in NYC last week!   \n",
       "27                                                                                                                            Love my girlfriend   \n",
       "28                                                                                                                                     Cooool :)   \n",
       "29                                                                                                                            Do you like pasta?   \n",
       "30                                                                                                                                      The end!   \n",
       "31                                                                                       @bbcmtd Wholesale Markets ablaze http://t.co/lHYXEOHY6C   \n",
       "32                                                                           We always try to bring the heavy. #metal #RT http://t.co/YAo1e0xngw   \n",
       "33                                                            #AFRICANBAZE: Breaking news:Nigeria flag set ablaze in Aba. http://t.co/2nndBGwyEi   \n",
       "34                                                                                                            Crying out for more! Set me ablaze   \n",
       "35                                                                  On plus side LOOK AT THE SKY LAST NIGHT IT WAS ABLAZE http://t.co/qqsmshaJ3N   \n",
       "36                    @PhDSquares #mufc they've built so much hype around new acquisitions but I doubt they will set the EPL ablaze this season.   \n",
       "37                                                                                       INEC Office in Abia Set Ablaze - http://t.co/3ImaomknnA   \n",
       "38  Barbados #Bridgetown JAMAICA ÛÒ Two cars set ablaze: SANTA CRUZ ÛÓ Head of the St Elizabeth Police Superintende...  http://t.co/wDUEaj8Q4J   \n",
       "39                                                                                                                        Ablaze for you Lord :D   \n",
       "40                            Check these out: http://t.co/rOI2NSmEJJ http://t.co/3Tj8ZjiN21 http://t.co/YDUiXEfIpE http://t.co/LxTjc87KLS #nsfw   \n",
       "41                                                                                on the outside you're ablaze and alive\\nbut you're dead inside   \n",
       "42                      Had an awesome time visiting the CFC head office the ancop site and ablaze. Thanks to Tita Vida for taking care of us ??   \n",
       "43                                                                                                  SOOOO PUMPED FOR ABLAZE ???? @southridgelife   \n",
       "44                                                  I wanted to set Chicago ablaze with my preaching... But not my hotel! http://t.co/o9qknbfOFX   \n",
       "45                                              I gained 3 followers in the last week. You? Know your stats and grow with http://t.co/TIyUliF5c6   \n",
       "46                                             How the West was burned: Thousands of wildfires ablaze in California alone http://t.co/vl5TBR3wbr   \n",
       "47                                                                               Building the perfect tracklist to life leave the streets ablaze   \n",
       "48                            Check these out: http://t.co/rOI2NSmEJJ http://t.co/3Tj8ZjiN21 http://t.co/YDUiXEfIpE http://t.co/LxTjc87KLS #nsfw   \n",
       "49    First night with retainers in. It's quite weird. Better get used to it; I have to wear them every single night for the next year at least.   \n",
       "\n",
       "    target clean_keyword             clean_location  \\\n",
       "0        1           nan                        nan   \n",
       "1        1           nan                        nan   \n",
       "2        1           nan                        nan   \n",
       "3        1           nan                        nan   \n",
       "4        1           nan                        nan   \n",
       "5        1           nan                        nan   \n",
       "6        1           nan                        nan   \n",
       "7        1           nan                        nan   \n",
       "8        1           nan                        nan   \n",
       "9        1           nan                        nan   \n",
       "10       1           nan                        nan   \n",
       "11       1           nan                        nan   \n",
       "12       1           nan                        nan   \n",
       "13       1           nan                        nan   \n",
       "14       1           nan                        nan   \n",
       "15       0           nan                        nan   \n",
       "16       0           nan                        nan   \n",
       "17       0           nan                        nan   \n",
       "18       0           nan                        nan   \n",
       "19       0           nan                        nan   \n",
       "20       0           nan                        nan   \n",
       "21       0           nan                        nan   \n",
       "22       0           nan                        nan   \n",
       "23       0           nan                        nan   \n",
       "24       0           nan                        nan   \n",
       "25       0           nan                        nan   \n",
       "26       0           nan                        nan   \n",
       "27       0           nan                        nan   \n",
       "28       0           nan                        nan   \n",
       "29       0           nan                        nan   \n",
       "30       0           nan                        nan   \n",
       "31       1         ablaz                 birmingham   \n",
       "32       0         ablaz        est septemb bristol   \n",
       "33       1         ablaz                     africa   \n",
       "34       0         ablaz            philadelphia pa   \n",
       "35       0         ablaz                  london uk   \n",
       "36       0         ablaz                   pretoria   \n",
       "37       1         ablaz                 world wide   \n",
       "38       1         ablaz                        nan   \n",
       "39       0         ablaz              paranaqu citi   \n",
       "40       0         ablaz                live webcam   \n",
       "41       0         ablaz                        nan   \n",
       "42       0         ablaz                  milki way   \n",
       "43       0         ablaz                        nan   \n",
       "44       0         ablaz                        nan   \n",
       "45       0         ablaz                        nan   \n",
       "46       1         ablaz  greensboro north carolina   \n",
       "47       0         ablaz                        nan   \n",
       "48       0         ablaz                live webcam   \n",
       "49       0         ablaz                    england   \n",
       "\n",
       "                                                                                 clean_text  \n",
       "0                                                    deed reason thi earthquak allah forgiv  \n",
       "1                                                           forest near la rong sask canada  \n",
       "2                     resid ask shelter place notifi offic evacu shelter place order expect  \n",
       "3                                               peopl receiv wildfir evacu order california  \n",
       "4                             just got sent thi photo rubi alaska smoke wildfir pour school  \n",
       "5                      rockyfir updat california hwi close direct lake counti cafir wildfir  \n",
       "6                flood disast heavi rain caus flash flood street manit colorado spring area  \n",
       "7                                                                               m hill wood  \n",
       "8                                                         s emerg evacu happen build street  \n",
       "9                                                                m afraid tornado come area  \n",
       "10                                                                  peopl die heat wave far  \n",
       "11           haha south tampa flood hah wait second live south tampa gonna gonna fvck flood  \n",
       "12                                      rain flood florida tampabay tampa day ve lost count  \n",
       "13                                                            flood bago myanmar arriv bago  \n",
       "14                                                    damag school bu multi car crash break  \n",
       "15                                                                                    s man  \n",
       "16                                                                               love fruit  \n",
       "17                                                                              summer love  \n",
       "18                                                                                 car fast  \n",
       "19                                                                          goooooooaaaaaal  \n",
       "20                                                                              thi ridicul  \n",
       "21                                                                              london cool  \n",
       "22                                                                                 love ski  \n",
       "23                                                                               wonder day  \n",
       "24                                                                                 looooool  \n",
       "25                                                                           way t eat shit  \n",
       "26                                                                              wa nyc week  \n",
       "27                                                                          love girlfriend  \n",
       "28                                                                                   cooool  \n",
       "29                                                                               like pasta  \n",
       "30                                                                                      end  \n",
       "31                                                             bbcmtd wholesal market ablaz  \n",
       "32                                                           alway tri bring heavi metal rt  \n",
       "33                                         africanbaz break news nigeria flag set ablaz aba  \n",
       "34                                                                            cri set ablaz  \n",
       "35                                                              plu look sky night wa ablaz  \n",
       "36                  phdsquar mufc ve built hype new acquisit doubt set epl ablaz thi season  \n",
       "37                                                                inec offic abia set ablaz  \n",
       "38  barbado bridgetown jamaica car set ablaz santa cruz head st elizabeth polic superintend  \n",
       "39                                                                             ablaz lord d  \n",
       "40                                                                               check nsfw  \n",
       "41                                                             outsid ablaz aliv dead insid  \n",
       "42                   awesom time visit cfc head offic ancop site ablaz thank tita vida care  \n",
       "43                                                           soooo pump ablaz southridgelif  \n",
       "44                                                      want set chicago ablaz preach hotel  \n",
       "45                                                          gain follow week know stat grow  \n",
       "46                                      west wa burn thousand wildfir ablaz california alon  \n",
       "47                                           build perfect tracklist life leav street ablaz  \n",
       "48                                                                               check nsfw  \n",
       "49                         night retain s quit weird better use wear everi singl night year  "
      ]
     },
     "execution_count": 29,
     "metadata": {},
     "output_type": "execute_result"
    }
   ],
   "source": [
    "train.head(50)"
   ]
  },
  {
   "cell_type": "code",
   "execution_count": 30,
   "metadata": {},
   "outputs": [
    {
     "name": "stdout",
     "output_type": "stream",
     "text": [
      "<class 'pandas.core.frame.DataFrame'>\n",
      "RangeIndex: 7613 entries, 0 to 7612\n",
      "Data columns (total 8 columns):\n",
      " #   Column          Non-Null Count  Dtype \n",
      "---  ------          --------------  ----- \n",
      " 0   id              7613 non-null   int64 \n",
      " 1   keyword         7613 non-null   object\n",
      " 2   location        7613 non-null   object\n",
      " 3   text            7613 non-null   object\n",
      " 4   target          7613 non-null   int64 \n",
      " 5   clean_keyword   7613 non-null   object\n",
      " 6   clean_location  7613 non-null   object\n",
      " 7   clean_text      7613 non-null   object\n",
      "dtypes: int64(2), object(6)\n",
      "memory usage: 475.9+ KB\n"
     ]
    }
   ],
   "source": [
    "train.info()"
   ]
  },
  {
   "cell_type": "markdown",
   "metadata": {},
   "source": [
    "### Imputing missing Keyword and Location"
   ]
  },
  {
   "cell_type": "code",
   "execution_count": 35,
   "metadata": {},
   "outputs": [
    {
     "data": {
      "text/plain": [
       "{'',\n",
       " 'ablaz',\n",
       " 'accid',\n",
       " 'aftershock',\n",
       " 'airplan accid',\n",
       " 'ambul',\n",
       " 'annihil',\n",
       " 'apocalyps',\n",
       " 'armageddon',\n",
       " 'armi',\n",
       " 'arson',\n",
       " 'arsonist',\n",
       " 'attack',\n",
       " 'avalanch',\n",
       " 'battl',\n",
       " 'bioterror',\n",
       " 'blaze',\n",
       " 'bleed',\n",
       " 'blew',\n",
       " 'blight',\n",
       " 'blizzard',\n",
       " 'blood',\n",
       " 'bloodi',\n",
       " 'blown',\n",
       " 'bodi bag',\n",
       " 'bomb',\n",
       " 'bridg collaps',\n",
       " 'build',\n",
       " 'build burn',\n",
       " 'burn',\n",
       " 'burn build',\n",
       " 'bush',\n",
       " 'casualti',\n",
       " 'catastroph',\n",
       " 'chemic emerg',\n",
       " 'cliff fall',\n",
       " 'collaps',\n",
       " 'collid',\n",
       " 'collis',\n",
       " 'crash',\n",
       " 'crush',\n",
       " 'curfew',\n",
       " 'cyclon',\n",
       " 'damag',\n",
       " 'danger',\n",
       " 'dead',\n",
       " 'death',\n",
       " 'debri',\n",
       " 'delug',\n",
       " 'demolish',\n",
       " 'demolit',\n",
       " 'derail',\n",
       " 'desol',\n",
       " 'destroy',\n",
       " 'destruct',\n",
       " 'deton',\n",
       " 'devast',\n",
       " 'disast',\n",
       " 'displac',\n",
       " 'drought',\n",
       " 'drown',\n",
       " 'dust storm',\n",
       " 'earthquak',\n",
       " 'electrocut',\n",
       " 'emerg',\n",
       " 'emerg plan',\n",
       " 'emerg servic',\n",
       " 'engulf',\n",
       " 'epicentr',\n",
       " 'evacu',\n",
       " 'explod',\n",
       " 'explos',\n",
       " 'eyewit',\n",
       " 'famin',\n",
       " 'fatal',\n",
       " 'fear',\n",
       " 'flame',\n",
       " 'flatten',\n",
       " 'flood',\n",
       " 'forest',\n",
       " 'hail',\n",
       " 'hailstorm',\n",
       " 'harm',\n",
       " 'hazard',\n",
       " 'heat wave',\n",
       " 'hellfir',\n",
       " 'hijack',\n",
       " 'hostag',\n",
       " 'hurrican',\n",
       " 'injur',\n",
       " 'injuri',\n",
       " 'inund',\n",
       " 'landslid',\n",
       " 'lava',\n",
       " 'lightn',\n",
       " 'loud bang',\n",
       " 'mass murder',\n",
       " 'massacr',\n",
       " 'mayhem',\n",
       " 'meltdown',\n",
       " 'militari',\n",
       " 'mudslid',\n",
       " 'nan',\n",
       " 'natur disast',\n",
       " 'nuclear disast',\n",
       " 'nuclear reactor',\n",
       " 'obliter',\n",
       " 'oil spill',\n",
       " 'outbreak',\n",
       " 'pandemonium',\n",
       " 'panic',\n",
       " 'panick',\n",
       " 'polic',\n",
       " 'quarantin',\n",
       " 'radiat emerg',\n",
       " 'rainstorm',\n",
       " 'raze',\n",
       " 'refuge',\n",
       " 'rescu',\n",
       " 'rescuer',\n",
       " 'respond',\n",
       " 'riot',\n",
       " 'rubbl',\n",
       " 'ruin',\n",
       " 'sandstorm',\n",
       " 'scream',\n",
       " 'seismic',\n",
       " 'sink',\n",
       " 'sinkhol',\n",
       " 'siren',\n",
       " 'smoke',\n",
       " 'snowstorm',\n",
       " 'storm',\n",
       " 'stretcher',\n",
       " 'structur failur',\n",
       " 'suicid bomb',\n",
       " 'suicid bomber',\n",
       " 'sunk',\n",
       " 'surviv',\n",
       " 'survivor',\n",
       " 'terror',\n",
       " 'terrorist',\n",
       " 'threat',\n",
       " 'thunder',\n",
       " 'thunderstorm',\n",
       " 'tornado',\n",
       " 'tragedi',\n",
       " 'trap',\n",
       " 'trauma',\n",
       " 'traumatis',\n",
       " 'troubl',\n",
       " 'truck',\n",
       " 'tsunami',\n",
       " 'twister',\n",
       " 'typhoon',\n",
       " 'upheav',\n",
       " 'violent storm',\n",
       " 'volcano',\n",
       " 'war zone',\n",
       " 'weapon',\n",
       " 'whirlwind',\n",
       " 'wild',\n",
       " 'wildfir',\n",
       " 'windstorm',\n",
       " 'wound',\n",
       " 'wreck',\n",
       " 'wreckag'}"
      ]
     },
     "execution_count": 35,
     "metadata": {},
     "output_type": "execute_result"
    }
   ],
   "source": [
    "set(train['clean_keyword'].unique())"
   ]
  },
  {
   "cell_type": "markdown",
   "metadata": {},
   "source": [
    "imputing keywords for train dataset"
   ]
  },
  {
   "cell_type": "code",
   "execution_count": 37,
   "metadata": {},
   "outputs": [],
   "source": [
    "for i, tweet in enumerate(train['clean_text']):\n",
    "    tokenizer = RegexpTokenizer(r'\\w+')\n",
    "    tweet_tokens = tokenizer.tokenize(tweet.lower())\n",
    "\n",
    "    for token in tweet_tokens:\n",
    "        if token in set(train['clean_keyword'].unique()) and train['clean_keyword'].iloc[i] == 'nan':\n",
    "            train.loc[i, 'clean_keyword'] = token"
   ]
  },
  {
   "cell_type": "markdown",
   "metadata": {},
   "source": [
    "imputing keywords for test dataset"
   ]
  },
  {
   "cell_type": "code",
   "execution_count": 38,
   "metadata": {},
   "outputs": [],
   "source": [
    "for i, tweet in enumerate(test['clean_text']):\n",
    "    tokenizer = RegexpTokenizer(r'\\w+')\n",
    "    tweet_tokens = tokenizer.tokenize(tweet.lower())\n",
    "\n",
    "    for token in tweet_tokens:\n",
    "        if token in set(test['clean_keyword'].unique()) and test['clean_keyword'].iloc[i] == 'nan':\n",
    "            test.loc[i, 'clean_keyword'] = token"
   ]
  },
  {
   "cell_type": "markdown",
   "metadata": {},
   "source": [
    "imputing location for train dataset"
   ]
  },
  {
   "cell_type": "code",
   "execution_count": 39,
   "metadata": {},
   "outputs": [],
   "source": [
    "for i, tweet in enumerate(train['clean_text']):\n",
    "    tokenizer = RegexpTokenizer(r'\\w+')\n",
    "    tweet_tokens = tokenizer.tokenize(tweet.lower())\n",
    "\n",
    "    for token in tweet_tokens:\n",
    "        if token in set(train['clean_location'].unique()) and train['clean_location'].iloc[i] == 'nan':\n",
    "            train.loc[i, 'clean_location'] = token"
   ]
  },
  {
   "cell_type": "markdown",
   "metadata": {},
   "source": [
    "imputing location for test dataset"
   ]
  },
  {
   "cell_type": "code",
   "execution_count": 40,
   "metadata": {},
   "outputs": [],
   "source": [
    "for i, tweet in enumerate(test['clean_text']):\n",
    "    tokenizer = RegexpTokenizer(r'\\w+')\n",
    "    tweet_tokens = tokenizer.tokenize(tweet.lower())\n",
    "\n",
    "    for token in tweet_tokens:\n",
    "        if token in set(test['clean_location'].unique()) and test['clean_location'].iloc[i] == 'nan':\n",
    "            test.loc[i, 'clean_location'] = token"
   ]
  },
  {
   "cell_type": "code",
   "execution_count": 41,
   "metadata": {},
   "outputs": [
    {
     "data": {
      "text/plain": [
       "id                22\n",
       "keyword           22\n",
       "location          22\n",
       "text              22\n",
       "target            22\n",
       "clean_keyword     22\n",
       "clean_location    22\n",
       "clean_text        22\n",
       "dtype: int64"
      ]
     },
     "execution_count": 41,
     "metadata": {},
     "output_type": "execute_result"
    }
   ],
   "source": [
    "train[train['clean_keyword']=='nan'].count()"
   ]
  },
  {
   "cell_type": "code",
   "execution_count": 42,
   "metadata": {},
   "outputs": [
    {
     "data": {
      "text/plain": [
       "id                1288\n",
       "keyword           1288\n",
       "location          1288\n",
       "text              1288\n",
       "target            1288\n",
       "clean_keyword     1288\n",
       "clean_location    1288\n",
       "clean_text        1288\n",
       "dtype: int64"
      ]
     },
     "execution_count": 42,
     "metadata": {},
     "output_type": "execute_result"
    }
   ],
   "source": [
    "train[train['clean_location']=='nan'].count()"
   ]
  },
  {
   "cell_type": "markdown",
   "metadata": {},
   "source": [
    "concatenating keyword and location after text"
   ]
  },
  {
   "cell_type": "code",
   "execution_count": 44,
   "metadata": {},
   "outputs": [],
   "source": [
    "train['combined_text'] = train['clean_text'] + ' ' + train['clean_keyword'] + ' ' + train['clean_location']"
   ]
  },
  {
   "cell_type": "code",
   "execution_count": 45,
   "metadata": {},
   "outputs": [],
   "source": [
    "test['combined_text'] = test['clean_text'] + ' ' + test['clean_keyword'] + ' ' + test['clean_location']"
   ]
  },
  {
   "cell_type": "code",
   "execution_count": 46,
   "metadata": {},
   "outputs": [
    {
     "data": {
      "text/html": [
       "<div>\n",
       "<style scoped>\n",
       "    .dataframe tbody tr th:only-of-type {\n",
       "        vertical-align: middle;\n",
       "    }\n",
       "\n",
       "    .dataframe tbody tr th {\n",
       "        vertical-align: top;\n",
       "    }\n",
       "\n",
       "    .dataframe thead th {\n",
       "        text-align: right;\n",
       "    }\n",
       "</style>\n",
       "<table border=\"1\" class=\"dataframe\">\n",
       "  <thead>\n",
       "    <tr style=\"text-align: right;\">\n",
       "      <th></th>\n",
       "      <th>id</th>\n",
       "      <th>keyword</th>\n",
       "      <th>location</th>\n",
       "      <th>text</th>\n",
       "      <th>target</th>\n",
       "      <th>clean_keyword</th>\n",
       "      <th>clean_location</th>\n",
       "      <th>clean_text</th>\n",
       "      <th>combined_text</th>\n",
       "    </tr>\n",
       "  </thead>\n",
       "  <tbody>\n",
       "    <tr>\n",
       "      <th>0</th>\n",
       "      <td>1</td>\n",
       "      <td>nan</td>\n",
       "      <td>nan</td>\n",
       "      <td>Our Deeds are the Reason of this #earthquake May ALLAH Forgive us all</td>\n",
       "      <td>1</td>\n",
       "      <td>earthquak</td>\n",
       "      <td>nan</td>\n",
       "      <td>deed reason thi earthquak allah forgiv</td>\n",
       "      <td>deed reason thi earthquak allah forgiv earthquak nan</td>\n",
       "    </tr>\n",
       "    <tr>\n",
       "      <th>1</th>\n",
       "      <td>4</td>\n",
       "      <td>nan</td>\n",
       "      <td>nan</td>\n",
       "      <td>Forest fire near La Ronge Sask. Canada</td>\n",
       "      <td>1</td>\n",
       "      <td>test</td>\n",
       "      <td>la</td>\n",
       "      <td>forest near la rong sask canada</td>\n",
       "      <td>forest near la rong sask canada test la</td>\n",
       "    </tr>\n",
       "    <tr>\n",
       "      <th>2</th>\n",
       "      <td>5</td>\n",
       "      <td>nan</td>\n",
       "      <td>nan</td>\n",
       "      <td>All residents asked to 'shelter in place' are being notified by officers. No other evacuation or shelter in place orders are expected</td>\n",
       "      <td>1</td>\n",
       "      <td>evacu</td>\n",
       "      <td>ask</td>\n",
       "      <td>resid ask shelter place notifi offic evacu shelter place order expect</td>\n",
       "      <td>resid ask shelter place notifi offic evacu shelter place order expect evacu ask</td>\n",
       "    </tr>\n",
       "    <tr>\n",
       "      <th>3</th>\n",
       "      <td>6</td>\n",
       "      <td>nan</td>\n",
       "      <td>nan</td>\n",
       "      <td>13,000 people receive #wildfires evacuation orders in California</td>\n",
       "      <td>1</td>\n",
       "      <td>wildfir</td>\n",
       "      <td>california</td>\n",
       "      <td>peopl receiv wildfir evacu order california</td>\n",
       "      <td>peopl receiv wildfir evacu order california wildfir california</td>\n",
       "    </tr>\n",
       "    <tr>\n",
       "      <th>4</th>\n",
       "      <td>7</td>\n",
       "      <td>nan</td>\n",
       "      <td>nan</td>\n",
       "      <td>Just got sent this photo from Ruby #Alaska as smoke from #wildfires pours into a school</td>\n",
       "      <td>1</td>\n",
       "      <td>smoke</td>\n",
       "      <td>alaska</td>\n",
       "      <td>just got sent thi photo rubi alaska smoke wildfir pour school</td>\n",
       "      <td>just got sent thi photo rubi alaska smoke wildfir pour school smoke alaska</td>\n",
       "    </tr>\n",
       "  </tbody>\n",
       "</table>\n",
       "</div>"
      ],
      "text/plain": [
       "   id keyword location  \\\n",
       "0   1     nan      nan   \n",
       "1   4     nan      nan   \n",
       "2   5     nan      nan   \n",
       "3   6     nan      nan   \n",
       "4   7     nan      nan   \n",
       "\n",
       "                                                                                                                                    text  \\\n",
       "0                                                                  Our Deeds are the Reason of this #earthquake May ALLAH Forgive us all   \n",
       "1                                                                                                 Forest fire near La Ronge Sask. Canada   \n",
       "2  All residents asked to 'shelter in place' are being notified by officers. No other evacuation or shelter in place orders are expected   \n",
       "3                                                                      13,000 people receive #wildfires evacuation orders in California    \n",
       "4                                               Just got sent this photo from Ruby #Alaska as smoke from #wildfires pours into a school    \n",
       "\n",
       "   target clean_keyword clean_location  \\\n",
       "0       1     earthquak            nan   \n",
       "1       1          test             la   \n",
       "2       1         evacu            ask   \n",
       "3       1       wildfir     california   \n",
       "4       1         smoke         alaska   \n",
       "\n",
       "                                                              clean_text  \\\n",
       "0                                 deed reason thi earthquak allah forgiv   \n",
       "1                                        forest near la rong sask canada   \n",
       "2  resid ask shelter place notifi offic evacu shelter place order expect   \n",
       "3                            peopl receiv wildfir evacu order california   \n",
       "4          just got sent thi photo rubi alaska smoke wildfir pour school   \n",
       "\n",
       "                                                                     combined_text  \n",
       "0                             deed reason thi earthquak allah forgiv earthquak nan  \n",
       "1                                          forest near la rong sask canada test la  \n",
       "2  resid ask shelter place notifi offic evacu shelter place order expect evacu ask  \n",
       "3                   peopl receiv wildfir evacu order california wildfir california  \n",
       "4       just got sent thi photo rubi alaska smoke wildfir pour school smoke alaska  "
      ]
     },
     "execution_count": 46,
     "metadata": {},
     "output_type": "execute_result"
    }
   ],
   "source": [
    "train.head()"
   ]
  },
  {
   "cell_type": "code",
   "execution_count": 47,
   "metadata": {},
   "outputs": [
    {
     "data": {
      "text/html": [
       "<div>\n",
       "<style scoped>\n",
       "    .dataframe tbody tr th:only-of-type {\n",
       "        vertical-align: middle;\n",
       "    }\n",
       "\n",
       "    .dataframe tbody tr th {\n",
       "        vertical-align: top;\n",
       "    }\n",
       "\n",
       "    .dataframe thead th {\n",
       "        text-align: right;\n",
       "    }\n",
       "</style>\n",
       "<table border=\"1\" class=\"dataframe\">\n",
       "  <thead>\n",
       "    <tr style=\"text-align: right;\">\n",
       "      <th></th>\n",
       "      <th>id</th>\n",
       "      <th>keyword</th>\n",
       "      <th>location</th>\n",
       "      <th>text</th>\n",
       "      <th>clean_keyword</th>\n",
       "      <th>clean_location</th>\n",
       "      <th>clean_text</th>\n",
       "      <th>combined_text</th>\n",
       "    </tr>\n",
       "  </thead>\n",
       "  <tbody>\n",
       "    <tr>\n",
       "      <th>0</th>\n",
       "      <td>0</td>\n",
       "      <td>nan</td>\n",
       "      <td>nan</td>\n",
       "      <td>Just happened a terrible car crash</td>\n",
       "      <td>crash</td>\n",
       "      <td>nan</td>\n",
       "      <td>just happen terribl car crash</td>\n",
       "      <td>just happen terribl car crash crash nan</td>\n",
       "    </tr>\n",
       "    <tr>\n",
       "      <th>1</th>\n",
       "      <td>2</td>\n",
       "      <td>nan</td>\n",
       "      <td>nan</td>\n",
       "      <td>Heard about #earthquake is different cities, stay safe everyone.</td>\n",
       "      <td>earthquak</td>\n",
       "      <td>nan</td>\n",
       "      <td>heard earthquak differ citi stay safe everyon</td>\n",
       "      <td>heard earthquak differ citi stay safe everyon earthquak nan</td>\n",
       "    </tr>\n",
       "    <tr>\n",
       "      <th>2</th>\n",
       "      <td>3</td>\n",
       "      <td>nan</td>\n",
       "      <td>nan</td>\n",
       "      <td>there is a forest fire at spot pond, geese are fleeing across the street, I cannot save them all</td>\n",
       "      <td>forest</td>\n",
       "      <td>nan</td>\n",
       "      <td>forest spot pond gees flee street save</td>\n",
       "      <td>forest spot pond gees flee street save forest nan</td>\n",
       "    </tr>\n",
       "    <tr>\n",
       "      <th>3</th>\n",
       "      <td>9</td>\n",
       "      <td>nan</td>\n",
       "      <td>nan</td>\n",
       "      <td>Apocalypse lighting. #Spokane #wildfires</td>\n",
       "      <td>apocalyps</td>\n",
       "      <td>nan</td>\n",
       "      <td>apocalyps light spokan wildfir</td>\n",
       "      <td>apocalyps light spokan wildfir apocalyps nan</td>\n",
       "    </tr>\n",
       "    <tr>\n",
       "      <th>4</th>\n",
       "      <td>11</td>\n",
       "      <td>nan</td>\n",
       "      <td>nan</td>\n",
       "      <td>Typhoon Soudelor kills 28 in China and Taiwan</td>\n",
       "      <td>typhoon</td>\n",
       "      <td>china</td>\n",
       "      <td>typhoon soudelor kill china taiwan</td>\n",
       "      <td>typhoon soudelor kill china taiwan typhoon china</td>\n",
       "    </tr>\n",
       "  </tbody>\n",
       "</table>\n",
       "</div>"
      ],
      "text/plain": [
       "   id keyword location  \\\n",
       "0   0     nan      nan   \n",
       "1   2     nan      nan   \n",
       "2   3     nan      nan   \n",
       "3   9     nan      nan   \n",
       "4  11     nan      nan   \n",
       "\n",
       "                                                                                               text  \\\n",
       "0                                                                Just happened a terrible car crash   \n",
       "1                                  Heard about #earthquake is different cities, stay safe everyone.   \n",
       "2  there is a forest fire at spot pond, geese are fleeing across the street, I cannot save them all   \n",
       "3                                                          Apocalypse lighting. #Spokane #wildfires   \n",
       "4                                                     Typhoon Soudelor kills 28 in China and Taiwan   \n",
       "\n",
       "  clean_keyword clean_location                                     clean_text  \\\n",
       "0         crash            nan                  just happen terribl car crash   \n",
       "1     earthquak            nan  heard earthquak differ citi stay safe everyon   \n",
       "2        forest            nan         forest spot pond gees flee street save   \n",
       "3     apocalyps            nan                 apocalyps light spokan wildfir   \n",
       "4       typhoon          china             typhoon soudelor kill china taiwan   \n",
       "\n",
       "                                                 combined_text  \n",
       "0                      just happen terribl car crash crash nan  \n",
       "1  heard earthquak differ citi stay safe everyon earthquak nan  \n",
       "2            forest spot pond gees flee street save forest nan  \n",
       "3                 apocalyps light spokan wildfir apocalyps nan  \n",
       "4             typhoon soudelor kill china taiwan typhoon china  "
      ]
     },
     "execution_count": 47,
     "metadata": {},
     "output_type": "execute_result"
    }
   ],
   "source": [
    "test.head()"
   ]
  },
  {
   "cell_type": "markdown",
   "metadata": {},
   "source": [
    "## Modelling"
   ]
  },
  {
   "cell_type": "markdown",
   "metadata": {},
   "source": [
    "### Train/Test Split"
   ]
  },
  {
   "cell_type": "code",
   "execution_count": 48,
   "metadata": {},
   "outputs": [],
   "source": [
    "X_train, X_test, y_train, y_test = train_test_split(train['combined_text'], train['target'], random_state=42, stratify=train['target'])"
   ]
  },
  {
   "cell_type": "code",
   "execution_count": 49,
   "metadata": {},
   "outputs": [
    {
     "data": {
      "text/plain": [
       "(5709,)"
      ]
     },
     "execution_count": 49,
     "metadata": {},
     "output_type": "execute_result"
    }
   ],
   "source": [
    "# X_train.head()\n",
    "X_train.shape"
   ]
  },
  {
   "cell_type": "code",
   "execution_count": 50,
   "metadata": {},
   "outputs": [
    {
     "data": {
      "text/plain": [
       "(5709,)"
      ]
     },
     "execution_count": 50,
     "metadata": {},
     "output_type": "execute_result"
    }
   ],
   "source": [
    "y_train.shape"
   ]
  },
  {
   "cell_type": "code",
   "execution_count": 51,
   "metadata": {},
   "outputs": [
    {
     "data": {
      "text/plain": [
       "(1904,)"
      ]
     },
     "execution_count": 51,
     "metadata": {},
     "output_type": "execute_result"
    }
   ],
   "source": [
    "X_test.shape"
   ]
  },
  {
   "cell_type": "code",
   "execution_count": 52,
   "metadata": {},
   "outputs": [
    {
     "data": {
      "text/plain": [
       "(1904,)"
      ]
     },
     "execution_count": 52,
     "metadata": {},
     "output_type": "execute_result"
    }
   ],
   "source": [
    "y_test.shape"
   ]
  },
  {
   "cell_type": "markdown",
   "metadata": {},
   "source": [
    "### Pipeline"
   ]
  },
  {
   "cell_type": "code",
   "execution_count": null,
   "metadata": {},
   "outputs": [],
   "source": [
    "pipe1 = Pipeline([('cvec', CountVectorizer()),\n",
    "                ('lr', LogisticRegression())])  \n",
    "pipe2 = Pipeline([('tvec', TfidfVectorizer()),\n",
    "                 ('lr', LogisticRegression())])\n",
    "pipe3 = Pipeline([('cvec', CountVectorizer()),\n",
    "                  ('ft', FunctionTransformer(lambda x: x.todense(), accept_sparse=True)),\n",
    "                  ('knn', KNeighborsClassifier())])\n",
    "pipe4 = Pipeline([('tvec', TfidfVectorizer()),\n",
    "                  ('ft', FunctionTransformer(lambda x: x.todense(), accept_sparse=True)),                  \n",
    "                  ('knn', KNeighborsClassifier())])\n",
    "pipe5 = Pipeline([('cvec', CountVectorizer()),\n",
    "                  ('nb', MultinomialNB())])\n",
    "pipe6 = Pipeline([('tvec', TfidfVectorizer()),\n",
    "                  ('ft', FunctionTransformer(lambda x: x.todense(), accept_sparse=True)),\n",
    "                  ('nb', MultinomialNB())])\n",
    "pipe7 = Pipeline([('cvec', CountVectorizer()),\n",
    "                  ('rf', RandomForestClassifier())])\n",
    "pipe8 = Pipeline([('tvec', TfidfVectorizer()),\n",
    "                  ('ft', FunctionTransformer(lambda x: x.todense(), accept_sparse=True)),\n",
    "                  ('rf', RandomForestClassifier())])\n",
    "pipe9 = Pipeline([('cvec', CountVectorizer()),\n",
    "                  ('svc', SVC())])\n",
    "pipe10 = Pipeline([('tvec', TfidfVectorizer()),\n",
    "                  ('ft', FunctionTransformer(lambda x: x.todense(), accept_sparse=True)),\n",
    "                  ('svc', SVC())])\n",
    "pipe11 = Pipeline([('cvec', CountVectorizer()),\n",
    "                   ('ft', FunctionTransformer(lambda x: x.todense(), accept_sparse=True)),\n",
    "                   ('gnb', GaussianNB())])\n",
    "pipe12 = Pipeline([('tvec', TfidfVectorizer()),\n",
    "                  ('ft', FunctionTransformer(lambda x: x.todense(), accept_sparse=True)),\n",
    "                  ('gnb', GaussianNB())])\n",
    "                \n",
    "\n",
    "pipe1_params = {#'cvec__max_features' : [50,100,250,500,1000], \n",
    "                'cvec__ngram_range' : [(1, 1), (1, 2), (1, 3)],\n",
    "                'lr__penalty' : ['l2']}\n",
    "pipe2_params = {#'tvec__max_features' : [50,100,250,500,1000],\n",
    "                'tvec__ngram_range' : [(1, 1), (1, 2), (1, 3)],\n",
    "                'lr__penalty' : ['l2']}\n",
    "pipe3_params = {#'cvec__max_features' : [100,250,500,1000],  \n",
    "                'cvec__ngram_range' : [(1, 1),(1, 2) ],\n",
    "                }\n",
    "pipe4_params = {#'tvec__max_features' : [100,250,500,1000],\n",
    "                'tvec__ngram_range' : [(1, 1),(1, 2) ],  \n",
    "                }\n",
    "pipe5_params = {#'cvec__max_features' : [100,500,1000,2000], \n",
    "                'cvec__ngram_range' : [(1, 1),(1, 2) ]}\n",
    "pipe6_params = {#'tvec__max_features' : [100,500,1000,2000],\n",
    "                'tvec__ngram_range' : [(1, 1),(1, 2) ]}\n",
    "pipe7_params = {#'cvec__max_features' : [100,500,1000,2000],\n",
    "                'cvec__ngram_range' : [(1, 1),(1, 2) ],\n",
    "                }\n",
    "pipe8_params = {#'tvec__max_features' : [100,500,1000,2000],\n",
    "                'tvec__ngram_range' : [(1, 1),(1, 2) ],\n",
    "                }\n",
    "pipe9_params = {#'cvec__max_features' : [100,500,1000,2000],\n",
    "                'cvec__ngram_range' : [(1, 1),(1, 2) ],\n",
    "                }\n",
    "pipe10_params = {#'tvec__max_features' : [100,500,1000,2000],\n",
    "                'tvec__ngram_range' : [(1, 1),(1, 2) ],\n",
    "                }\n",
    "pipe11_params = {#'cvec__max_features' : [100,500,1000,2000], \n",
    "                'cvec__ngram_range' : [(1, 1),(1, 2) ]}\n",
    "pipe12_params = {#'tvec__max_features' : [100,500,1000,2000],\n",
    "                'tvec__ngram_range' : [(1, 1),(1, 2) ]}"
   ]
  },
  {
   "cell_type": "code",
   "execution_count": null,
   "metadata": {},
   "outputs": [],
   "source": [
    "gs1 = GridSearchCV(pipe1,\n",
    "                   param_grid = pipe1_params,\n",
    "                   cv = 5)\n",
    "\n",
    "gs2 = GridSearchCV(pipe2,\n",
    "                   param_grid = pipe2_params,\n",
    "                   cv = 5)\n",
    "\n",
    "gs3 = GridSearchCV(pipe3,\n",
    "                   param_grid = pipe3_params,\n",
    "                   cv = 5)\n",
    "\n",
    "gs4 = GridSearchCV(pipe4,\n",
    "                   param_grid = pipe4_params,\n",
    "                   cv = 5)\n",
    "\n",
    "gs5 = GridSearchCV(pipe5,\n",
    "                   param_grid = pipe5_params,\n",
    "                   cv = 5)\n",
    "\n",
    "gs6 = GridSearchCV(pipe6,\n",
    "                   param_grid = pipe6_params,\n",
    "                   cv = 5)\n",
    "\n",
    "gs7 = GridSearchCV(pipe7,\n",
    "                  param_grid = pipe7_params,\n",
    "                  cv = 5)\n",
    "\n",
    "gs8 = GridSearchCV(pipe8,\n",
    "                  param_grid = pipe8_params,\n",
    "                  cv = 5)\n",
    "\n",
    "gs9 = GridSearchCV(pipe9,\n",
    "                   param_grid = pipe9_params,\n",
    "                   cv = 5)\n",
    "\n",
    "gs10 = GridSearchCV(pipe10,\n",
    "                   param_grid = pipe10_params,\n",
    "                   cv = 5)\n",
    "\n",
    "gs11 = GridSearchCV(pipe11,\n",
    "                   param_grid = pipe11_params,\n",
    "                   cv = 5)\n",
    "\n",
    "gs12 = GridSearchCV(pipe12,\n",
    "                   param_grid = pipe12_params,\n",
    "                   cv = 5)"
   ]
  },
  {
   "cell_type": "markdown",
   "metadata": {},
   "source": [
    "### Fitting models"
   ]
  },
  {
   "cell_type": "code",
   "execution_count": null,
   "metadata": {},
   "outputs": [],
   "source": [
    "def gsfittrain(gsnum):\n",
    "    gsnum.fit(X_train, y_train)\n",
    "    gsnum_model = gsnum.best_estimator_\n",
    "    print (gsnum.best_score_)\n",
    "    print (gsnum.best_params_)\n",
    "    return gsnum_model"
   ]
  },
  {
   "cell_type": "code",
   "execution_count": null,
   "metadata": {},
   "outputs": [],
   "source": [
    "#log reg/cvec\n",
    "gs1_model = gsfittrain(gs1)"
   ]
  },
  {
   "cell_type": "code",
   "execution_count": null,
   "metadata": {},
   "outputs": [],
   "source": [
    "#log reg/tvec\n",
    "gs2_model = gsfittrain(gs2)"
   ]
  },
  {
   "cell_type": "code",
   "execution_count": null,
   "metadata": {},
   "outputs": [],
   "source": [
    "#knn/cvec\n",
    "gs3_model = gsfittrain(gs3)"
   ]
  },
  {
   "cell_type": "code",
   "execution_count": null,
   "metadata": {},
   "outputs": [],
   "source": [
    "#knn/tvec\n",
    "gs4_model = gsfittrain(gs4)"
   ]
  },
  {
   "cell_type": "code",
   "execution_count": null,
   "metadata": {},
   "outputs": [],
   "source": [
    "#multinomial nb/cvec\n",
    "gs5_model = gsfittrain(gs5)"
   ]
  },
  {
   "cell_type": "code",
   "execution_count": null,
   "metadata": {},
   "outputs": [],
   "source": [
    "#multinomial nb/tvec\n",
    "gs6_model = gsfittrain(gs6)"
   ]
  },
  {
   "cell_type": "code",
   "execution_count": null,
   "metadata": {},
   "outputs": [],
   "source": [
    "#rf/cvec\n",
    "gs7_model = gsfittrain(gs7)"
   ]
  },
  {
   "cell_type": "code",
   "execution_count": null,
   "metadata": {},
   "outputs": [],
   "source": [
    "#rf/tvec\n",
    "# takes too long to run!\n",
    "gs8_model = gsfittrain(gs8)"
   ]
  },
  {
   "cell_type": "code",
   "execution_count": null,
   "metadata": {},
   "outputs": [],
   "source": [
    "#svc/cvec\n",
    "gs9_model = gsfittrain(gs9)"
   ]
  },
  {
   "cell_type": "code",
   "execution_count": null,
   "metadata": {},
   "outputs": [],
   "source": [
    "#svc/tvec\n",
    "gs10_model = gsfittrain(gs10)"
   ]
  },
  {
   "cell_type": "code",
   "execution_count": null,
   "metadata": {},
   "outputs": [],
   "source": [
    "#gaussian/cvec\n",
    "gs11_model = gsfittrain(gs11)"
   ]
  },
  {
   "cell_type": "code",
   "execution_count": null,
   "metadata": {},
   "outputs": [],
   "source": [
    "#gaussian/tvec\n",
    "gs12_model = gsfittrain(gs12)"
   ]
  },
  {
   "cell_type": "markdown",
   "metadata": {},
   "source": [
    "### Scoring"
   ]
  },
  {
   "cell_type": "code",
   "execution_count": null,
   "metadata": {},
   "outputs": [],
   "source": [
    "def model_scoring(gs_model, X_train, X_test, y_train, y_test):\n",
    "    train_preds = gs_model.predict(X_train)\n",
    "    test_preds = gs_model.predict(X_test)\n",
    "    print(f'Train f1 score is {f1_score(y_train, train_preds)}')\n",
    "    print(f'Test f1 score is {f1_score(y_test, test_preds)}')"
   ]
  },
  {
   "cell_type": "code",
   "execution_count": null,
   "metadata": {},
   "outputs": [],
   "source": [
    "model_scoring(gs1_model, X_train, X_test, y_train, y_test)"
   ]
  },
  {
   "cell_type": "code",
   "execution_count": null,
   "metadata": {},
   "outputs": [],
   "source": [
    "model_scoring(gs2_model, X_train, X_test, y_train, y_test)"
   ]
  },
  {
   "cell_type": "code",
   "execution_count": null,
   "metadata": {},
   "outputs": [],
   "source": [
    "model_scoring(gs3_model, X_train, X_test, y_train, y_test)"
   ]
  },
  {
   "cell_type": "code",
   "execution_count": null,
   "metadata": {},
   "outputs": [],
   "source": [
    "model_scoring(gs4_model, X_train, X_test, y_train, y_test)"
   ]
  },
  {
   "cell_type": "code",
   "execution_count": null,
   "metadata": {},
   "outputs": [],
   "source": [
    "model_scoring(gs5_model, X_train, X_test, y_train, y_test)"
   ]
  },
  {
   "cell_type": "code",
   "execution_count": null,
   "metadata": {},
   "outputs": [],
   "source": [
    "model_scoring(gs6_model, X_train, X_test, y_train, y_test)"
   ]
  },
  {
   "cell_type": "code",
   "execution_count": null,
   "metadata": {},
   "outputs": [],
   "source": [
    "model_scoring(gs7_model, X_train, X_test, y_train, y_test)"
   ]
  },
  {
   "cell_type": "code",
   "execution_count": null,
   "metadata": {},
   "outputs": [],
   "source": [
    "model_scoring(gs8_model, X_train, X_test, y_train, y_test)"
   ]
  },
  {
   "cell_type": "code",
   "execution_count": null,
   "metadata": {},
   "outputs": [],
   "source": [
    "model_scoring(gs9_model, X_train, X_test, y_train, y_test)"
   ]
  },
  {
   "cell_type": "code",
   "execution_count": null,
   "metadata": {},
   "outputs": [],
   "source": [
    "model_scoring(gs10_model, X_train, X_test, y_train, y_test)"
   ]
  },
  {
   "cell_type": "code",
   "execution_count": null,
   "metadata": {},
   "outputs": [],
   "source": [
    "model_scoring(gs11_model, X_train, X_test, y_train, y_test)"
   ]
  },
  {
   "cell_type": "code",
   "execution_count": null,
   "metadata": {},
   "outputs": [],
   "source": [
    "model_scoring(gs12_model, X_train, X_test, y_train, y_test)"
   ]
  },
  {
   "cell_type": "markdown",
   "metadata": {},
   "source": [
    "### Pipeline Refining - Only Log Reg with cvec, NB and SVC with tvec"
   ]
  },
  {
   "cell_type": "code",
   "execution_count": null,
   "metadata": {},
   "outputs": [],
   "source": [
    "# need to use a different to dense method because lambda function cannot be pickled\n",
    "class DenseTransformer(TransformerMixin):\n",
    "\n",
    "    def fit(self, X, y=None, **fit_params):\n",
    "        return self\n",
    "    \n",
    "    def transform(self, X, y=None, **fit_params):\n",
    "        return X.todense()"
   ]
  },
  {
   "cell_type": "code",
   "execution_count": null,
   "metadata": {},
   "outputs": [],
   "source": [
    "lr_pipe = Pipeline([('cvec', CountVectorizer()),\n",
    "                ('lr', LogisticRegression())])  \n",
    "nb_pipe = Pipeline([('tvec', TfidfVectorizer()),\n",
    "                  ('to_dense', DenseTransformer()),\n",
    "                  ('nb', MultinomialNB())])\n",
    "svc_pipe = Pipeline([('tvec', TfidfVectorizer()),\n",
    "                  ('to_dense', DenseTransformer()),\n",
    "                  ('svc', SVC())])\n",
    "\n",
    "lr_params = {\n",
    "             'cvec__max_features' : [1000,2000,2500,3000,5000,None], \n",
    "             'cvec__ngram_range' : [(1, 1), (1, 2), (1, 3),(1, 4),(1, 5)],\n",
    "             'lr__penalty' : ['l2'],\n",
    "             'lr__solver' : ['lbfgs', 'liblinear']\n",
    "            }\n",
    "\n",
    "nb_params = {\n",
    "             'tvec__max_features' : [1000,2000,2500,3000,5000,None],\n",
    "             'tvec__ngram_range' : [(1, 1), (1, 2), (1, 3)],\n",
    "             'nb__alpha' : [0.01, 0.25, 0.5, 0.75, 1],\n",
    "            }\n",
    "\n",
    "svc_params = {'tvec__max_features' : [1000,2000,3000,5000,None],\n",
    "              'tvec__ngram_range' : [(1, 1)],\n",
    "              'svc__kernel' : ['linear', 'rbf']\n",
    "             }"
   ]
  },
  {
   "cell_type": "code",
   "execution_count": null,
   "metadata": {},
   "outputs": [],
   "source": [
    "lr_gs = GridSearchCV(lr_pipe,\n",
    "                   param_grid = lr_params,\n",
    "                   cv = 5)\n",
    "\n",
    "nb_gs = GridSearchCV(nb_pipe,\n",
    "                   param_grid = nb_params,\n",
    "                   cv = 5)\n",
    "\n",
    "svc_gs = GridSearchCV(svc_pipe,\n",
    "                   param_grid = svc_params,\n",
    "                   cv = 5)"
   ]
  },
  {
   "cell_type": "code",
   "execution_count": null,
   "metadata": {},
   "outputs": [],
   "source": [
    "lr_model = gsfittrain(lr_gs)"
   ]
  },
  {
   "cell_type": "code",
   "execution_count": null,
   "metadata": {},
   "outputs": [],
   "source": [
    "model_scoring(lr_model, X_train, X_test, y_train, y_test)"
   ]
  },
  {
   "cell_type": "code",
   "execution_count": null,
   "metadata": {},
   "outputs": [],
   "source": [
    "nb_model = gsfittrain(nb_gs)"
   ]
  },
  {
   "cell_type": "code",
   "execution_count": null,
   "metadata": {},
   "outputs": [],
   "source": [
    "model_scoring(nb_model, X_train, X_test, y_train, y_test)"
   ]
  },
  {
   "cell_type": "code",
   "execution_count": null,
   "metadata": {},
   "outputs": [],
   "source": [
    "start = time.time()"
   ]
  },
  {
   "cell_type": "code",
   "execution_count": null,
   "metadata": {},
   "outputs": [],
   "source": [
    "svc_model = gsfittrain(svc_gs)"
   ]
  },
  {
   "cell_type": "code",
   "execution_count": null,
   "metadata": {},
   "outputs": [],
   "source": [
    "end = time.time()\n",
    "print(end - start)"
   ]
  },
  {
   "cell_type": "code",
   "execution_count": null,
   "metadata": {},
   "outputs": [],
   "source": [
    "model_scoring(svc_model, X_train, X_test, y_train, y_test)"
   ]
  },
  {
   "cell_type": "code",
   "execution_count": null,
   "metadata": {},
   "outputs": [],
   "source": [
    "with open('lr_model.pkl', 'wb') as model_file:\n",
    "    pickle.dump(lr_model, model_file)"
   ]
  },
  {
   "cell_type": "code",
   "execution_count": null,
   "metadata": {},
   "outputs": [],
   "source": [
    "with open('nb_model.pkl', 'wb') as model_file:\n",
    "    pickle.dump(nb_model, model_file)"
   ]
  },
  {
   "cell_type": "code",
   "execution_count": null,
   "metadata": {},
   "outputs": [],
   "source": [
    "with open('svc_model.pkl', 'wb') as model_file:\n",
    "    pickle.dump(svc_model, model_file)"
   ]
  },
  {
   "cell_type": "markdown",
   "metadata": {},
   "source": [
    "## Neural Network"
   ]
  },
  {
   "cell_type": "code",
   "execution_count": 343,
   "metadata": {},
   "outputs": [],
   "source": [
    "sentences = train['combined_text']\n",
    "sentences_test = test['combined_text']\n",
    "\n",
    "target = train['target']"
   ]
  },
  {
   "cell_type": "code",
   "execution_count": 319,
   "metadata": {},
   "outputs": [],
   "source": [
    "train_sentences, test_sentences, train_labels, test_labels = train_test_split(sentences, target, random_state=42, stratify=target)"
   ]
  },
  {
   "cell_type": "code",
   "execution_count": 321,
   "metadata": {},
   "outputs": [],
   "source": [
    "# num_words = 1000\n",
    "oov_token = '<UNK>'\n",
    "pad_type = 'post'\n",
    "trunc_type = 'post'\n",
    "# train_data = train['combined_text'].to_list()"
   ]
  },
  {
   "cell_type": "code",
   "execution_count": 322,
   "metadata": {},
   "outputs": [],
   "source": [
    "# Tokenize our training data\n",
    "tokenizer = Tokenizer(oov_token=oov_token)\n",
    "tokenizer.fit_on_texts(train_sentences)\n",
    "\n",
    "# Get our training data word index\n",
    "word_index = tokenizer.word_index\n",
    "\n",
    "# Encode training and testing data sentences into sequences\n",
    "train_sequences = tokenizer.texts_to_sequences(train_sentences)\n",
    "test_sequences = tokenizer.texts_to_sequences(test_sentences)\n",
    "\n",
    "# Get max training sequence length\n",
    "maxlen = max([len(x) for x in train_sequences])\n",
    "\n",
    "# Pad the training and testing sequences\n",
    "train_padded = pad_sequences(train_sequences, padding=pad_type, truncating=trunc_type, maxlen=maxlen)\n",
    "test_padded = pad_sequences(test_sequences, padding=pad_type, truncating=trunc_type, maxlen=maxlen)"
   ]
  },
  {
   "cell_type": "code",
   "execution_count": 347,
   "metadata": {},
   "outputs": [],
   "source": [
    "# Tokenize our testing data\n",
    "tokenizer = Tokenizer(oov_token=oov_token)\n",
    "tokenizer.fit_on_texts(sentences_test)\n",
    "\n",
    "# Get our training data word index\n",
    "word_index = tokenizer.word_index\n",
    "\n",
    "# Encode training and testing data sentences into sequences\n",
    "kaggle_test_sequences = tokenizer.texts_to_sequences(sentences_test)\n",
    "\n",
    "# Pad the training and testing sequences\n",
    "kaggle_test_padded = pad_sequences(kaggle_test_sequences, padding=pad_type, truncating=trunc_type, maxlen=26)"
   ]
  },
  {
   "cell_type": "code",
   "execution_count": 323,
   "metadata": {},
   "outputs": [
    {
     "name": "stdout",
     "output_type": "stream",
     "text": [
      "Number of unique words: 12312\n",
      "max length: 26\n"
     ]
    }
   ],
   "source": [
    "print('Number of unique words:',len(word_index))\n",
    "print('max length:', maxlen)"
   ]
  },
  {
   "cell_type": "code",
   "execution_count": 325,
   "metadata": {},
   "outputs": [],
   "source": [
    "num_words=len(word_index)+1"
   ]
  },
  {
   "cell_type": "code",
   "execution_count": 326,
   "metadata": {},
   "outputs": [
    {
     "data": {
      "text/plain": [
       "12313"
      ]
     },
     "execution_count": 326,
     "metadata": {},
     "output_type": "execute_result"
    }
   ],
   "source": [
    "num_words"
   ]
  },
  {
   "cell_type": "markdown",
   "metadata": {},
   "source": [
    "### Custom tensorflow function to track f1 score"
   ]
  },
  {
   "cell_type": "code",
   "execution_count": 327,
   "metadata": {},
   "outputs": [],
   "source": [
    "@tf.function\n",
    "def f1_score(y_true, y_pred):\n",
    "\n",
    "    # Count positive samples.\n",
    "    c1 = K.sum(K.round(K.clip(y_true * y_pred, 0, 1))) # true positives\n",
    "    c2 = K.sum(K.round(K.clip(y_pred, 0, 1))) # predicted positives\n",
    "    c3 = K.sum(K.round(K.clip(y_true, 0, 1)))\n",
    "\n",
    "    # If there are no true samples, fix the F1 score at 0.\n",
    "    if c3 == 0:\n",
    "        return 0.\n",
    "\n",
    "    # How many selected items are relevant?\n",
    "    precision = c1 / (c2 + K.epsilon())\n",
    "\n",
    "    # How many relevant items are selected?\n",
    "    recall = c1 / (c3 + K.epsilon())\n",
    "\n",
    "    # Calculate f1_score\n",
    "    f1_score = 2 * (precision * recall) / (precision + recall + K.epsilon())\n",
    "    return f1_score \n",
    "\n",
    "# model.compile(optimizer='adam', loss='mse', metrics=['accuracy', f1_score])"
   ]
  },
  {
   "cell_type": "markdown",
   "metadata": {},
   "source": [
    "### LSTM"
   ]
  },
  {
   "cell_type": "code",
   "execution_count": 334,
   "metadata": {},
   "outputs": [],
   "source": [
    "model_1 = Sequential()"
   ]
  },
  {
   "cell_type": "code",
   "execution_count": 335,
   "metadata": {},
   "outputs": [],
   "source": [
    "model_1.add(Embedding(2500, 64, input_length = maxlen))\n",
    "model_1.add(LSTM(16, return_sequences = False))\n",
    "model_1.add(Dropout(0.5))\n",
    "# model_1.add(Dense(32))\n",
    "model_1.add(Dense(1, activation = 'sigmoid'))"
   ]
  },
  {
   "cell_type": "code",
   "execution_count": 336,
   "metadata": {},
   "outputs": [
    {
     "name": "stdout",
     "output_type": "stream",
     "text": [
      "Model: \"sequential_48\"\n",
      "_________________________________________________________________\n",
      "Layer (type)                 Output Shape              Param #   \n",
      "=================================================================\n",
      "embedding_50 (Embedding)     (None, 26, 64)            160000    \n",
      "_________________________________________________________________\n",
      "lstm_54 (LSTM)               (None, 16)                5184      \n",
      "_________________________________________________________________\n",
      "dropout_21 (Dropout)         (None, 16)                0         \n",
      "_________________________________________________________________\n",
      "dense_59 (Dense)             (None, 1)                 17        \n",
      "=================================================================\n",
      "Total params: 165,201\n",
      "Trainable params: 165,201\n",
      "Non-trainable params: 0\n",
      "_________________________________________________________________\n"
     ]
    }
   ],
   "source": [
    "model_1.summary()"
   ]
  },
  {
   "cell_type": "code",
   "execution_count": 337,
   "metadata": {
    "scrolled": false
   },
   "outputs": [],
   "source": [
    "model_1.compile(loss = 'binary_crossentropy', optimizer = 'adam', metrics=[f1_score, 'acc'])"
   ]
  },
  {
   "cell_type": "code",
   "execution_count": 338,
   "metadata": {},
   "outputs": [
    {
     "name": "stdout",
     "output_type": "stream",
     "text": [
      "Train on 5709 samples, validate on 1904 samples\n",
      "Epoch 1/50\n",
      "5709/5709 [==============================] - 3s 444us/step - loss: 0.6778 - f1_score: 0.0280 - acc: 0.5677 - val_loss: 0.5927 - val_f1_score: 0.4523 - val_acc: 0.6970\n",
      "Epoch 2/50\n",
      "5709/5709 [==============================] - 2s 367us/step - loss: 0.4821 - f1_score: 0.7544 - acc: 0.8031 - val_loss: 0.4454 - val_f1_score: 0.7653 - val_acc: 0.8104\n",
      "Epoch 3/50\n",
      "5709/5709 [==============================] - 2s 382us/step - loss: 0.3819 - f1_score: 0.8258 - acc: 0.8600 - val_loss: 0.4434 - val_f1_score: 0.7677 - val_acc: 0.8130\n",
      "Epoch 4/50\n",
      "5709/5709 [==============================] - 2s 382us/step - loss: 0.3404 - f1_score: 0.8513 - acc: 0.8777 - val_loss: 0.4693 - val_f1_score: 0.7645 - val_acc: 0.8009\n",
      "Epoch 5/50\n",
      "5709/5709 [==============================] - 2s 379us/step - loss: 0.3050 - f1_score: 0.8696 - acc: 0.8939 - val_loss: 0.5027 - val_f1_score: 0.7581 - val_acc: 0.7962\n",
      "Epoch 6/50\n",
      "5709/5709 [==============================] - 2s 372us/step - loss: 0.2707 - f1_score: 0.8897 - acc: 0.9091 - val_loss: 0.5422 - val_f1_score: 0.7510 - val_acc: 0.7952\n",
      "Epoch 7/50\n",
      "5709/5709 [==============================] - ETA: 0s - loss: 0.2438 - f1_score: 0.8995 - acc: 0.91 - 2s 369us/step - loss: 0.2446 - f1_score: 0.8984 - acc: 0.9173 - val_loss: 0.6074 - val_f1_score: 0.7491 - val_acc: 0.7957\n",
      "Epoch 8/50\n",
      "5709/5709 [==============================] - 2s 367us/step - loss: 0.2289 - f1_score: 0.9073 - acc: 0.9231 - val_loss: 0.6801 - val_f1_score: 0.7368 - val_acc: 0.7757\n",
      "Epoch 9/50\n",
      "5709/5709 [==============================] - 2s 374us/step - loss: 0.2150 - f1_score: 0.9147 - acc: 0.9294 - val_loss: 0.7088 - val_f1_score: 0.7373 - val_acc: 0.7673\n",
      "Epoch 10/50\n",
      "5709/5709 [==============================] - 2s 377us/step - loss: 0.2035 - f1_score: 0.9149 - acc: 0.9303 - val_loss: 0.6872 - val_f1_score: 0.7492 - val_acc: 0.7899\n",
      "Epoch 11/50\n",
      "5709/5709 [==============================] - 2s 381us/step - loss: 0.1996 - f1_score: 0.9156 - acc: 0.9308 - val_loss: 0.7428 - val_f1_score: 0.7322 - val_acc: 0.7631\n",
      "Epoch 12/50\n",
      "5709/5709 [==============================] - 2s 377us/step - loss: 0.1939 - f1_score: 0.9178 - acc: 0.9320 - val_loss: 0.7077 - val_f1_score: 0.7413 - val_acc: 0.7852\n",
      "Epoch 13/50\n",
      "5709/5709 [==============================] - 2s 369us/step - loss: 0.1892 - f1_score: 0.9214 - acc: 0.9350 - val_loss: 0.7001 - val_f1_score: 0.7357 - val_acc: 0.7857\n"
     ]
    }
   ],
   "source": [
    "early_stop = EarlyStopping(monitor = 'val_acc', patience = 10, min_delta = 0, restore_best_weights = True)\n",
    "\n",
    "history = model_1.fit(\n",
    "    train_padded, train_labels,\n",
    "    validation_data = (test_padded, test_labels),\n",
    "    epochs = 50,\n",
    "    batch_size = 64,\n",
    "#     verbose = 2,\n",
    "    callbacks = [early_stop]\n",
    ")"
   ]
  },
  {
   "cell_type": "code",
   "execution_count": 340,
   "metadata": {},
   "outputs": [
    {
     "data": {
      "image/png": "[encoded data removed]",
      "text/plain": [
       "<Figure size 432x288 with 2 Axes>"
      ]
     },
     "metadata": {
      "needs_background": "light"
     },
     "output_type": "display_data"
    },
    {
     "data": {
      "text/plain": [
       "<Figure size 1080x720 with 0 Axes>"
      ]
     },
     "metadata": {},
     "output_type": "display_data"
    },
    {
     "data": {
      "text/plain": [
       "<Figure size 1080x720 with 0 Axes>"
      ]
     },
     "metadata": {},
     "output_type": "display_data"
    }
   ],
   "source": [
    "# plot accuracy and error\n",
    "plot_history(history)"
   ]
  },
  {
   "cell_type": "code",
   "execution_count": 341,
   "metadata": {},
   "outputs": [
    {
     "data": {
      "text/html": [
       "<div>\n",
       "<style scoped>\n",
       "    .dataframe tbody tr th:only-of-type {\n",
       "        vertical-align: middle;\n",
       "    }\n",
       "\n",
       "    .dataframe tbody tr th {\n",
       "        vertical-align: top;\n",
       "    }\n",
       "\n",
       "    .dataframe thead th {\n",
       "        text-align: right;\n",
       "    }\n",
       "</style>\n",
       "<table border=\"1\" class=\"dataframe\">\n",
       "  <thead>\n",
       "    <tr style=\"text-align: right;\">\n",
       "      <th></th>\n",
       "      <th>id</th>\n",
       "      <th>keyword</th>\n",
       "      <th>location</th>\n",
       "      <th>text</th>\n",
       "      <th>clean_keyword</th>\n",
       "      <th>clean_location</th>\n",
       "      <th>clean_text</th>\n",
       "      <th>combined_text</th>\n",
       "    </tr>\n",
       "  </thead>\n",
       "  <tbody>\n",
       "    <tr>\n",
       "      <th>0</th>\n",
       "      <td>0</td>\n",
       "      <td>nan</td>\n",
       "      <td>nan</td>\n",
       "      <td>Just happened a terrible car crash</td>\n",
       "      <td>crash</td>\n",
       "      <td>nan</td>\n",
       "      <td>just happen terribl car crash</td>\n",
       "      <td>just happen terribl car crash crash nan</td>\n",
       "    </tr>\n",
       "    <tr>\n",
       "      <th>1</th>\n",
       "      <td>2</td>\n",
       "      <td>nan</td>\n",
       "      <td>nan</td>\n",
       "      <td>Heard about #earthquake is different cities, stay safe everyone.</td>\n",
       "      <td>earthquak</td>\n",
       "      <td>nan</td>\n",
       "      <td>heard earthquak differ citi stay safe everyon</td>\n",
       "      <td>heard earthquak differ citi stay safe everyon earthquak nan</td>\n",
       "    </tr>\n",
       "    <tr>\n",
       "      <th>2</th>\n",
       "      <td>3</td>\n",
       "      <td>nan</td>\n",
       "      <td>nan</td>\n",
       "      <td>there is a forest fire at spot pond, geese are fleeing across the street, I cannot save them all</td>\n",
       "      <td>forest</td>\n",
       "      <td>nan</td>\n",
       "      <td>forest spot pond gees flee street save</td>\n",
       "      <td>forest spot pond gees flee street save forest nan</td>\n",
       "    </tr>\n",
       "    <tr>\n",
       "      <th>3</th>\n",
       "      <td>9</td>\n",
       "      <td>nan</td>\n",
       "      <td>nan</td>\n",
       "      <td>Apocalypse lighting. #Spokane #wildfires</td>\n",
       "      <td>apocalyps</td>\n",
       "      <td>nan</td>\n",
       "      <td>apocalyps light spokan wildfir</td>\n",
       "      <td>apocalyps light spokan wildfir apocalyps nan</td>\n",
       "    </tr>\n",
       "    <tr>\n",
       "      <th>4</th>\n",
       "      <td>11</td>\n",
       "      <td>nan</td>\n",
       "      <td>nan</td>\n",
       "      <td>Typhoon Soudelor kills 28 in China and Taiwan</td>\n",
       "      <td>typhoon</td>\n",
       "      <td>china</td>\n",
       "      <td>typhoon soudelor kill china taiwan</td>\n",
       "      <td>typhoon soudelor kill china taiwan typhoon china</td>\n",
       "    </tr>\n",
       "  </tbody>\n",
       "</table>\n",
       "</div>"
      ],
      "text/plain": [
       "   id keyword location  \\\n",
       "0   0     nan      nan   \n",
       "1   2     nan      nan   \n",
       "2   3     nan      nan   \n",
       "3   9     nan      nan   \n",
       "4  11     nan      nan   \n",
       "\n",
       "                                                                                               text  \\\n",
       "0                                                                Just happened a terrible car crash   \n",
       "1                                  Heard about #earthquake is different cities, stay safe everyone.   \n",
       "2  there is a forest fire at spot pond, geese are fleeing across the street, I cannot save them all   \n",
       "3                                                          Apocalypse lighting. #Spokane #wildfires   \n",
       "4                                                     Typhoon Soudelor kills 28 in China and Taiwan   \n",
       "\n",
       "  clean_keyword clean_location                                     clean_text  \\\n",
       "0         crash            nan                  just happen terribl car crash   \n",
       "1     earthquak            nan  heard earthquak differ citi stay safe everyon   \n",
       "2        forest            nan         forest spot pond gees flee street save   \n",
       "3     apocalyps            nan                 apocalyps light spokan wildfir   \n",
       "4       typhoon          china             typhoon soudelor kill china taiwan   \n",
       "\n",
       "                                                 combined_text  \n",
       "0                      just happen terribl car crash crash nan  \n",
       "1  heard earthquak differ citi stay safe everyon earthquak nan  \n",
       "2            forest spot pond gees flee street save forest nan  \n",
       "3                 apocalyps light spokan wildfir apocalyps nan  \n",
       "4             typhoon soudelor kill china taiwan typhoon china  "
      ]
     },
     "execution_count": 341,
     "metadata": {},
     "output_type": "execute_result"
    }
   ],
   "source": [
    "test.head()"
   ]
  },
  {
   "cell_type": "markdown",
   "metadata": {},
   "source": [
    "### LSTM NN"
   ]
  },
  {
   "cell_type": "code",
   "execution_count": 129,
   "metadata": {},
   "outputs": [],
   "source": [
    "model=Sequential()\n",
    "\n",
    "embedding=Embedding(num_words,100,embeddings_initializer=Constant(embedding_matrix),\n",
    "                   input_length=maxlen)\n",
    "\n",
    "model.add(embedding)\n",
    "model.add(GlobalAveragePooling1D())\n",
    "model.add(Dense(64, activation='relu'))\n",
    "model.add(Dense(1, activation='sigmoid'))\n",
    "\n",
    "\n",
    "optimzer=Adam(learning_rate=1e-5)\n",
    "\n",
    "model.compile(loss='binary_crossentropy',optimizer=optimzer,metrics=['accuracy'])"
   ]
  },
  {
   "cell_type": "code",
   "execution_count": 130,
   "metadata": {},
   "outputs": [
    {
     "name": "stdout",
     "output_type": "stream",
     "text": [
      "Model: \"sequential_13\"\n",
      "_________________________________________________________________\n",
      "Layer (type)                 Output Shape              Param #   \n",
      "=================================================================\n",
      "embedding_13 (Embedding)     (None, 26, 100)           1262700   \n",
      "_________________________________________________________________\n",
      "global_average_pooling1d_6 ( (None, 100)               0         \n",
      "_________________________________________________________________\n",
      "dense_15 (Dense)             (None, 64)                6464      \n",
      "_________________________________________________________________\n",
      "dense_16 (Dense)             (None, 1)                 65        \n",
      "=================================================================\n",
      "Total params: 1,269,229\n",
      "Trainable params: 1,269,229\n",
      "Non-trainable params: 0\n",
      "_________________________________________________________________\n"
     ]
    }
   ],
   "source": [
    "model.summary()"
   ]
  },
  {
   "cell_type": "code",
   "execution_count": 131,
   "metadata": {},
   "outputs": [],
   "source": [
    "# X_train,X_test,y_train,y_test=train_test_split(train_padded,train['target'].values,test_size=0.15)\n",
    "# print('Shape of train',X_train.shape)\n",
    "# print(\"Shape of Validation \",X_test.shape)"
   ]
  },
  {
   "cell_type": "code",
   "execution_count": 132,
   "metadata": {
    "scrolled": true
   },
   "outputs": [
    {
     "name": "stderr",
     "output_type": "stream",
     "text": [
      "/home/kavan/.local/lib/python3.8/site-packages/tensorflow/python/framework/indexed_slices.py:433: UserWarning: Converting sparse IndexedSlices to a dense Tensor of unknown shape. This may consume a large amount of memory.\n",
      "  warnings.warn(\n"
     ]
    },
    {
     "name": "stdout",
     "output_type": "stream",
     "text": [
      "Train on 6090 samples, validate on 1523 samples\n",
      "Epoch 1/50\n",
      "6090/6090 [==============================] - 2s 345us/step - loss: 0.6930 - accuracy: 0.5793 - val_loss: 0.6930 - val_accuracy: 0.5345\n",
      "Epoch 2/50\n",
      "6090/6090 [==============================] - 2s 330us/step - loss: 0.6928 - accuracy: 0.5793 - val_loss: 0.6929 - val_accuracy: 0.5345\n",
      "Epoch 3/50\n",
      "6090/6090 [==============================] - 2s 342us/step - loss: 0.6925 - accuracy: 0.5793 - val_loss: 0.6928 - val_accuracy: 0.5345\n",
      "Epoch 4/50\n",
      "6090/6090 [==============================] - 2s 323us/step - loss: 0.6923 - accuracy: 0.5793 - val_loss: 0.6927 - val_accuracy: 0.5345\n",
      "Epoch 5/50\n",
      "6090/6090 [==============================] - 2s 339us/step - loss: 0.6921 - accuracy: 0.5793 - val_loss: 0.6926 - val_accuracy: 0.5345\n",
      "Epoch 6/50\n",
      "6090/6090 [==============================] - 2s 337us/step - loss: 0.6918 - accuracy: 0.5793 - val_loss: 0.6926 - val_accuracy: 0.5345\n",
      "Epoch 7/50\n",
      "6090/6090 [==============================] - 2s 337us/step - loss: 0.6916 - accuracy: 0.5793 - val_loss: 0.6925 - val_accuracy: 0.5345\n",
      "Epoch 8/50\n",
      "6090/6090 [==============================] - 2s 326us/step - loss: 0.6914 - accuracy: 0.5793 - val_loss: 0.6924 - val_accuracy: 0.5345\n",
      "Epoch 9/50\n",
      "6090/6090 [==============================] - 2s 326us/step - loss: 0.6912 - accuracy: 0.5793 - val_loss: 0.6923 - val_accuracy: 0.5345\n",
      "Epoch 10/50\n",
      "6090/6090 [==============================] - 2s 320us/step - loss: 0.6910 - accuracy: 0.5793 - val_loss: 0.6922 - val_accuracy: 0.5345\n",
      "Epoch 11/50\n",
      "6090/6090 [==============================] - 2s 322us/step - loss: 0.6908 - accuracy: 0.5793 - val_loss: 0.6921 - val_accuracy: 0.5345\n",
      "Epoch 12/50\n",
      "6090/6090 [==============================] - 2s 344us/step - loss: 0.6906 - accuracy: 0.5793 - val_loss: 0.6921 - val_accuracy: 0.5345\n",
      "Epoch 13/50\n",
      "6090/6090 [==============================] - 2s 328us/step - loss: 0.6904 - accuracy: 0.5793 - val_loss: 0.6920 - val_accuracy: 0.5345\n",
      "Epoch 14/50\n",
      "6090/6090 [==============================] - 2s 325us/step - loss: 0.6902 - accuracy: 0.5793 - val_loss: 0.6919 - val_accuracy: 0.5345\n",
      "Epoch 15/50\n",
      "6090/6090 [==============================] - 2s 324us/step - loss: 0.6900 - accuracy: 0.5793 - val_loss: 0.6919 - val_accuracy: 0.5345\n",
      "Epoch 16/50\n",
      "6090/6090 [==============================] - 2s 331us/step - loss: 0.6898 - accuracy: 0.5793 - val_loss: 0.6918 - val_accuracy: 0.5345\n",
      "Epoch 17/50\n",
      "6090/6090 [==============================] - 2s 325us/step - loss: 0.6896 - accuracy: 0.5793 - val_loss: 0.6917 - val_accuracy: 0.5345\n",
      "Epoch 18/50\n",
      "6090/6090 [==============================] - 2s 318us/step - loss: 0.6894 - accuracy: 0.5793 - val_loss: 0.6917 - val_accuracy: 0.5345\n",
      "Epoch 19/50\n",
      "6090/6090 [==============================] - 2s 321us/step - loss: 0.6892 - accuracy: 0.5793 - val_loss: 0.6916 - val_accuracy: 0.5345\n",
      "Epoch 20/50\n",
      "6090/6090 [==============================] - 2s 321us/step - loss: 0.6891 - accuracy: 0.5793 - val_loss: 0.6916 - val_accuracy: 0.5345\n",
      "Epoch 21/50\n",
      "6090/6090 [==============================] - 2s 342us/step - loss: 0.6889 - accuracy: 0.5793 - val_loss: 0.6915 - val_accuracy: 0.5345\n",
      "Epoch 22/50\n",
      "6090/6090 [==============================] - 2s 320us/step - loss: 0.6887 - accuracy: 0.5793 - val_loss: 0.6915 - val_accuracy: 0.5345\n",
      "Epoch 23/50\n",
      "6090/6090 [==============================] - 2s 368us/step - loss: 0.6886 - accuracy: 0.5793 - val_loss: 0.6914 - val_accuracy: 0.5345\n",
      "Epoch 24/50\n",
      "6090/6090 [==============================] - 2s 342us/step - loss: 0.6884 - accuracy: 0.5793 - val_loss: 0.6914 - val_accuracy: 0.5345\n",
      "Epoch 25/50\n",
      "6090/6090 [==============================] - 2s 372us/step - loss: 0.6882 - accuracy: 0.5793 - val_loss: 0.6913 - val_accuracy: 0.5345\n",
      "Epoch 26/50\n",
      "6090/6090 [==============================] - 2s 329us/step - loss: 0.6881 - accuracy: 0.5793 - val_loss: 0.6913 - val_accuracy: 0.5345\n",
      "Epoch 27/50\n",
      "6090/6090 [==============================] - 2s 321us/step - loss: 0.6879 - accuracy: 0.5793 - val_loss: 0.6913 - val_accuracy: 0.5345\n",
      "Epoch 28/50\n",
      "6090/6090 [==============================] - 2s 322us/step - loss: 0.6878 - accuracy: 0.5793 - val_loss: 0.6912 - val_accuracy: 0.5345\n",
      "Epoch 29/50\n",
      "6090/6090 [==============================] - 2s 326us/step - loss: 0.6876 - accuracy: 0.5793 - val_loss: 0.6912 - val_accuracy: 0.5345\n",
      "Epoch 30/50\n",
      "6090/6090 [==============================] - 2s 328us/step - loss: 0.6875 - accuracy: 0.5793 - val_loss: 0.6911 - val_accuracy: 0.5345\n",
      "Epoch 31/50\n",
      "6090/6090 [==============================] - 2s 322us/step - loss: 0.6874 - accuracy: 0.5793 - val_loss: 0.6911 - val_accuracy: 0.5345\n",
      "Epoch 32/50\n",
      "6090/6090 [==============================] - 2s 320us/step - loss: 0.6872 - accuracy: 0.5793 - val_loss: 0.6911 - val_accuracy: 0.5345\n",
      "Epoch 33/50\n",
      "6090/6090 [==============================] - 2s 325us/step - loss: 0.6871 - accuracy: 0.5793 - val_loss: 0.6911 - val_accuracy: 0.5345\n",
      "Epoch 34/50\n",
      "6090/6090 [==============================] - 2s 404us/step - loss: 0.6869 - accuracy: 0.5793 - val_loss: 0.6910 - val_accuracy: 0.5345\n",
      "Epoch 35/50\n",
      "6090/6090 [==============================] - 2s 329us/step - loss: 0.6868 - accuracy: 0.5793 - val_loss: 0.6910 - val_accuracy: 0.5345\n",
      "Epoch 36/50\n",
      "6090/6090 [==============================] - 2s 326us/step - loss: 0.6867 - accuracy: 0.5793 - val_loss: 0.6910 - val_accuracy: 0.5345\n",
      "Epoch 37/50\n",
      "6090/6090 [==============================] - 2s 318us/step - loss: 0.6866 - accuracy: 0.5793 - val_loss: 0.6910 - val_accuracy: 0.5345\n",
      "Epoch 38/50\n",
      "6090/6090 [==============================] - 2s 341us/step - loss: 0.6864 - accuracy: 0.5793 - val_loss: 0.6909 - val_accuracy: 0.5345\n",
      "Epoch 39/50\n",
      "6090/6090 [==============================] - 2s 373us/step - loss: 0.6863 - accuracy: 0.5793 - val_loss: 0.6909 - val_accuracy: 0.5345\n",
      "Epoch 40/50\n",
      "6090/6090 [==============================] - 2s 369us/step - loss: 0.6862 - accuracy: 0.5793 - val_loss: 0.6909 - val_accuracy: 0.5345\n",
      "Epoch 41/50\n",
      "6090/6090 [==============================] - 2s 384us/step - loss: 0.6861 - accuracy: 0.5793 - val_loss: 0.6909 - val_accuracy: 0.5345\n",
      "Epoch 42/50\n",
      "6090/6090 [==============================] - 2s 321us/step - loss: 0.6860 - accuracy: 0.5793 - val_loss: 0.6909 - val_accuracy: 0.5345\n",
      "Epoch 43/50\n",
      "6090/6090 [==============================] - 2s 328us/step - loss: 0.6859 - accuracy: 0.5793 - val_loss: 0.6908 - val_accuracy: 0.5345\n",
      "Epoch 44/50\n",
      "6090/6090 [==============================] - 2s 338us/step - loss: 0.6857 - accuracy: 0.5793 - val_loss: 0.6908 - val_accuracy: 0.5345\n",
      "Epoch 45/50\n",
      "6090/6090 [==============================] - 2s 326us/step - loss: 0.6856 - accuracy: 0.5793 - val_loss: 0.6908 - val_accuracy: 0.5345\n",
      "Epoch 46/50\n",
      "6090/6090 [==============================] - 2s 325us/step - loss: 0.6855 - accuracy: 0.5793 - val_loss: 0.6908 - val_accuracy: 0.5345\n",
      "Epoch 47/50\n",
      "6090/6090 [==============================] - 2s 323us/step - loss: 0.6854 - accuracy: 0.5793 - val_loss: 0.6908 - val_accuracy: 0.5345\n",
      "Epoch 48/50\n",
      "6090/6090 [==============================] - 2s 319us/step - loss: 0.6853 - accuracy: 0.5793 - val_loss: 0.6908 - val_accuracy: 0.5345\n",
      "Epoch 49/50\n",
      "6090/6090 [==============================] - 2s 325us/step - loss: 0.6852 - accuracy: 0.5793 - val_loss: 0.6908 - val_accuracy: 0.5345\n",
      "Epoch 50/50\n",
      "6090/6090 [==============================] - 2s 318us/step - loss: 0.6851 - accuracy: 0.5793 - val_loss: 0.6908 - val_accuracy: 0.5345\n"
     ]
    }
   ],
   "source": [
    "history=model.fit(train_padded,train_labels,batch_size=8,epochs=50,validation_data=(test_padded,test_labels))"
   ]
  },
  {
   "cell_type": "markdown",
   "metadata": {},
   "source": [
    "### Function to plot NN error and accuracy "
   ]
  },
  {
   "cell_type": "code",
   "execution_count": 192,
   "metadata": {},
   "outputs": [],
   "source": [
    "def plot_history(history):\n",
    "    '''\n",
    "    Plot model accuracy/loss for training/validation set vs epochs\n",
    "    \n",
    "    PARAMS:\n",
    "        history: Training history from model\n",
    "    RETURNS:\n",
    "    '''\n",
    "    \n",
    "    fig, axs = plt.subplots(2)\n",
    "    \n",
    "    # create accuracy subplots:\n",
    "    plt.figure(figsize=(15,10))\n",
    "    axs[0].plot(history.history['acc'], label='train accuracy')\n",
    "    axs[0].plot(history.history['val_acc'], label='test accuracy')\n",
    "    axs[0].set_ylabel('Accuracy')\n",
    "    axs[0].legend(loc='lower right')\n",
    "    axs[0].set_title('Accuracy eval')\n",
    "    \n",
    "    # create error subplot:\n",
    "    axs[1].plot(history.history['loss'], label='train error')\n",
    "    axs[1].plot(history.history['val_loss'], label = 'test error')\n",
    "    axs[1].set_ylabel('Error')\n",
    "    axs[1].set_xlabel('Epoch')\n",
    "    axs[1].legend(loc='upper right')\n",
    "    axs[1].set_title('Error eval')\n",
    "    \n",
    "    plt.figure(figsize=(15,10))\n",
    "    plt.show()\n",
    "    \n",
    "    "
   ]
  },
  {
   "cell_type": "code",
   "execution_count": 123,
   "metadata": {},
   "outputs": [
    {
     "data": {
      "image/png": "[encoded data removed]",
      "text/plain": [
       "<Figure size 432x288 with 2 Axes>"
      ]
     },
     "metadata": {
      "needs_background": "light"
     },
     "output_type": "display_data"
    },
    {
     "data": {
      "text/plain": [
       "<Figure size 1080x720 with 0 Axes>"
      ]
     },
     "metadata": {},
     "output_type": "display_data"
    },
    {
     "data": {
      "text/plain": [
       "<Figure size 1080x720 with 0 Axes>"
      ]
     },
     "metadata": {},
     "output_type": "display_data"
    }
   ],
   "source": [
    "# plot accuracy and error\n",
    "plot_history(history)"
   ]
  },
  {
   "cell_type": "markdown",
   "metadata": {},
   "source": [
    "## Predictions"
   ]
  },
  {
   "cell_type": "markdown",
   "metadata": {},
   "source": [
    "#### NN predictions"
   ]
  },
  {
   "cell_type": "code",
   "execution_count": 349,
   "metadata": {},
   "outputs": [],
   "source": [
    "nn_preds = model.predict(kaggle_test_padded)"
   ]
  },
  {
   "cell_type": "code",
   "execution_count": 350,
   "metadata": {},
   "outputs": [],
   "source": [
    "output_nn = pd.DataFrame(columns = ['id','target'])"
   ]
  },
  {
   "cell_type": "code",
   "execution_count": 351,
   "metadata": {},
   "outputs": [],
   "source": [
    "output_nn['id'] = test['id']\n",
    "output_nn['target'] = nn_preds"
   ]
  },
  {
   "cell_type": "code",
   "execution_count": 352,
   "metadata": {},
   "outputs": [
    {
     "data": {
      "text/html": [
       "<div>\n",
       "<style scoped>\n",
       "    .dataframe tbody tr th:only-of-type {\n",
       "        vertical-align: middle;\n",
       "    }\n",
       "\n",
       "    .dataframe tbody tr th {\n",
       "        vertical-align: top;\n",
       "    }\n",
       "\n",
       "    .dataframe thead th {\n",
       "        text-align: right;\n",
       "    }\n",
       "</style>\n",
       "<table border=\"1\" class=\"dataframe\">\n",
       "  <thead>\n",
       "    <tr style=\"text-align: right;\">\n",
       "      <th></th>\n",
       "      <th>id</th>\n",
       "      <th>target</th>\n",
       "    </tr>\n",
       "  </thead>\n",
       "  <tbody>\n",
       "    <tr>\n",
       "      <th>0</th>\n",
       "      <td>0</td>\n",
       "      <td>0.468258</td>\n",
       "    </tr>\n",
       "    <tr>\n",
       "      <th>1</th>\n",
       "      <td>2</td>\n",
       "      <td>0.468258</td>\n",
       "    </tr>\n",
       "    <tr>\n",
       "      <th>2</th>\n",
       "      <td>3</td>\n",
       "      <td>0.468258</td>\n",
       "    </tr>\n",
       "    <tr>\n",
       "      <th>3</th>\n",
       "      <td>9</td>\n",
       "      <td>0.468258</td>\n",
       "    </tr>\n",
       "    <tr>\n",
       "      <th>4</th>\n",
       "      <td>11</td>\n",
       "      <td>0.468258</td>\n",
       "    </tr>\n",
       "  </tbody>\n",
       "</table>\n",
       "</div>"
      ],
      "text/plain": [
       "   id    target\n",
       "0   0  0.468258\n",
       "1   2  0.468258\n",
       "2   3  0.468258\n",
       "3   9  0.468258\n",
       "4  11  0.468258"
      ]
     },
     "execution_count": 352,
     "metadata": {},
     "output_type": "execute_result"
    }
   ],
   "source": [
    "output_nn.head()"
   ]
  },
  {
   "cell_type": "markdown",
   "metadata": {},
   "source": [
    "As the neural network predictions were all the same number, we decided to submit only the Naive Bayes model predictions."
   ]
  },
  {
   "cell_type": "markdown",
   "metadata": {},
   "source": [
    "#### NB predictions"
   ]
  },
  {
   "cell_type": "code",
   "execution_count": 353,
   "metadata": {},
   "outputs": [],
   "source": [
    "output_nn.to_csv('nb_submission.csv', index = False)"
   ]
  },
  {
   "cell_type": "code",
   "execution_count": null,
   "metadata": {},
   "outputs": [],
   "source": [
    "nb_preds = nb_model.predict(test['combined_text'])"
   ]
  },
  {
   "cell_type": "code",
   "execution_count": null,
   "metadata": {},
   "outputs": [],
   "source": [
    "nb_preds"
   ]
  },
  {
   "cell_type": "code",
   "execution_count": null,
   "metadata": {},
   "outputs": [],
   "source": [
    "test.head()"
   ]
  },
  {
   "cell_type": "code",
   "execution_count": null,
   "metadata": {},
   "outputs": [],
   "source": [
    "output = pd.DataFrame(columns = ['id','target'])"
   ]
  },
  {
   "cell_type": "code",
   "execution_count": null,
   "metadata": {},
   "outputs": [],
   "source": [
    "output['id'] = test['id']\n",
    "output['target'] = nb_preds"
   ]
  },
  {
   "cell_type": "code",
   "execution_count": null,
   "metadata": {},
   "outputs": [],
   "source": [
    "output.head()"
   ]
  },
  {
   "cell_type": "code",
   "execution_count": null,
   "metadata": {},
   "outputs": [],
   "source": [
    "output.to_csv('nb_submission.csv', index = False)"
   ]
  },
  {
   "cell_type": "markdown",
   "metadata": {},
   "source": [
    "## Conclusion\n",
    "\n",
    "The Multinomial Naive-Bayes model was the best solution based on our results and achieved a F1 score of 0.79 on the test dataset which is a reasonably good result. While we did attempt a neural network solution as well it was vastly overfit. Despite our attempts to simplify it, the predictions ended up always outputting the same value. Either our data is too simple for a neural network or we need to work on further simplifications to the neural network config."
   ]
  },
  {
   "cell_type": "markdown",
   "metadata": {},
   "source": [
    "## Future Improvements\n",
    "\n",
    "Areas of improvement in the future include better inputing of missing location and keywords, additional hyperparameter tuning on the Scikit-Learn classifiers and also additional tuning for the neural network. Furthermore, some tweets had hashtags which could be compared against keywords.\n",
    "\n",
    "It wasn't necessary to visualize an ROC curve or identify which ngrams were most significant for the challenge but these could be included in the future for completeness."
   ]
  },
  {
   "cell_type": "code",
   "execution_count": null,
   "metadata": {},
   "outputs": [],
   "source": []
  }
 ],
 "metadata": {
  "kernelspec": {
   "display_name": "Python 3",
   "language": "python",
   "name": "python3"
  },
  "language_info": {
   "codemirror_mode": {
    "name": "ipython",
    "version": 3
   },
   "file_extension": ".py",
   "mimetype": "text/x-python",
   "name": "python",
   "nbconvert_exporter": "python",
   "pygments_lexer": "ipython3",
   "version": "3.7.7"
  }
 },
 "nbformat": 4,
 "nbformat_minor": 1
}
